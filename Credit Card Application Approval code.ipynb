{
 "cells": [
  {
   "cell_type": "markdown",
   "id": "b0499baa",
   "metadata": {},
   "source": [
    "# Credit Card Application Approval"
   ]
  },
  {
   "cell_type": "markdown",
   "id": "a5b381f6",
   "metadata": {},
   "source": [
    "Youtube video link:  https://www.youtube.com/watch?v=OMwAfnUrJCI"
   ]
  },
  {
   "cell_type": "markdown",
   "id": "29e0b9cc",
   "metadata": {},
   "source": [
    "## Problem Statement"
   ]
  },
  {
   "cell_type": "markdown",
   "id": "b106e3cc",
   "metadata": {},
   "source": [
    "Predict whether a customer’s credit card application will be approved based on their financial and personal details."
   ]
  },
  {
   "cell_type": "markdown",
   "id": "5f1b2b1a",
   "metadata": {},
   "source": [
    "## Objective"
   ]
  },
  {
   "cell_type": "markdown",
   "id": "74e98c13",
   "metadata": {},
   "source": [
    "Build a classification model to predict application approval and identify key factors influencing approval."
   ]
  },
  {
   "cell_type": "markdown",
   "id": "b62ee5be",
   "metadata": {},
   "source": [
    "## Features"
   ]
  },
  {
   "cell_type": "markdown",
   "id": "ce3d978c",
   "metadata": {},
   "source": [
    "### Dataset 1: Credit_Card.csv"
   ]
  },
  {
   "cell_type": "markdown",
   "id": "c5f76ecf",
   "metadata": {},
   "source": [
    "Ind_ID: Unique client identifier.\n",
    "\n",
    "Gender: Gender of the client.\n",
    "\n",
    "Car_owner: Indicates if the client owns a car (Yes/No).\n",
    "\n",
    "Propert_owner: Indicates if the client owns property (Yes/No).\n",
    "\n",
    "Children: Number of children the client has.\n",
    "\n",
    "Annual_income: Client's annual income in numerical format.\n",
    "\n",
    "Type_Income: Type of income source (e.g., salaried, business).\n",
    "\n",
    "Education: Client's education level (e.g., High School, Bachelor’s).\n",
    "\n",
    "Marital_status: Marital status of the client (e.g., Single, Married).\n",
    "\n",
    "Housing_type: Client's living arrangement (e.g., Own, Rent).\n",
    "\n",
    "Birthday_count: Backward count of days from today to the client’s birthday (e.g., 0 for today, -1 for yesterday).\n",
    "\n",
    "Employed_days: Backward count of days since the client’s employment started (positive if unemployed).\n",
    "\n",
    "Mobile_phone: Indicates if the client has a mobile phone (Yes/No).\n",
    "\n",
    "Work_phone: Indicates if the client has a work phone (Yes/No).\n",
    "\n",
    "Phone: Indicates if the client has any phone number (Yes/No).\n",
    "\n",
    "EMAIL_ID: Indicates if the client has an email address (Yes/No).\n",
    "\n",
    "Type_Occupation: Client’s occupation type (e.g., Manager, Technician).\n",
    "\n",
    "Family_Members: Total number of family members in the client’s household."
   ]
  },
  {
   "cell_type": "markdown",
   "id": "8b8326e6",
   "metadata": {},
   "source": [
    "### Dataset 2: Credit_card_label.csv"
   ]
  },
  {
   "cell_type": "markdown",
   "id": "c0f80310",
   "metadata": {},
   "source": [
    "Ind_ID: Client ID, same as Ind_ID in the first dataset (used as a join key).\n",
    "\n",
    "Label: Target variable indicating credit application status (0 = Approved, 1 = Rejected)."
   ]
  },
  {
   "cell_type": "markdown",
   "id": "fcb248bc",
   "metadata": {},
   "source": [
    "# Data Reading"
   ]
  },
  {
   "cell_type": "code",
   "execution_count": 257,
   "id": "69f50a57",
   "metadata": {},
   "outputs": [],
   "source": [
    "# Import necessary libraries\n",
    "import pandas as pd\n",
    "\n",
    "# Read the datasets\n",
    "credit_data = pd.read_csv('Credit_card.csv')          # Dataset 1\n",
    "credit_labels = pd.read_csv('Credit_card_label.csv')  # Dataset 2"
   ]
  },
  {
   "cell_type": "code",
   "execution_count": 258,
   "id": "cdf4a9a2",
   "metadata": {},
   "outputs": [
    {
     "name": "stdout",
     "output_type": "stream",
     "text": [
      "<class 'pandas.core.frame.DataFrame'>\n",
      "RangeIndex: 1548 entries, 0 to 1547\n",
      "Data columns (total 18 columns):\n",
      " #   Column           Non-Null Count  Dtype  \n",
      "---  ------           --------------  -----  \n",
      " 0   Ind_ID           1548 non-null   int64  \n",
      " 1   GENDER           1541 non-null   object \n",
      " 2   Car_Owner        1548 non-null   object \n",
      " 3   Propert_Owner    1548 non-null   object \n",
      " 4   CHILDREN         1548 non-null   int64  \n",
      " 5   Annual_income    1525 non-null   float64\n",
      " 6   Type_Income      1548 non-null   object \n",
      " 7   EDUCATION        1548 non-null   object \n",
      " 8   Marital_status   1548 non-null   object \n",
      " 9   Housing_type     1548 non-null   object \n",
      " 10  Birthday_count   1526 non-null   float64\n",
      " 11  Employed_days    1548 non-null   int64  \n",
      " 12  Mobile_phone     1548 non-null   int64  \n",
      " 13  Work_Phone       1548 non-null   int64  \n",
      " 14  Phone            1548 non-null   int64  \n",
      " 15  EMAIL_ID         1548 non-null   int64  \n",
      " 16  Type_Occupation  1060 non-null   object \n",
      " 17  Family_Members   1548 non-null   int64  \n",
      "dtypes: float64(2), int64(8), object(8)\n",
      "memory usage: 217.8+ KB\n"
     ]
    }
   ],
   "source": [
    "credit_data.info()"
   ]
  },
  {
   "cell_type": "code",
   "execution_count": 259,
   "id": "7d5e1505",
   "metadata": {},
   "outputs": [
    {
     "name": "stdout",
     "output_type": "stream",
     "text": [
      "<class 'pandas.core.frame.DataFrame'>\n",
      "RangeIndex: 1548 entries, 0 to 1547\n",
      "Data columns (total 2 columns):\n",
      " #   Column  Non-Null Count  Dtype\n",
      "---  ------  --------------  -----\n",
      " 0   Ind_ID  1548 non-null   int64\n",
      " 1   label   1548 non-null   int64\n",
      "dtypes: int64(2)\n",
      "memory usage: 24.3 KB\n"
     ]
    }
   ],
   "source": [
    "credit_labels.info()"
   ]
  },
  {
   "cell_type": "code",
   "execution_count": 260,
   "id": "127dc79b",
   "metadata": {},
   "outputs": [
    {
     "data": {
      "text/html": [
       "<div>\n",
       "<style scoped>\n",
       "    .dataframe tbody tr th:only-of-type {\n",
       "        vertical-align: middle;\n",
       "    }\n",
       "\n",
       "    .dataframe tbody tr th {\n",
       "        vertical-align: top;\n",
       "    }\n",
       "\n",
       "    .dataframe thead th {\n",
       "        text-align: right;\n",
       "    }\n",
       "</style>\n",
       "<table border=\"1\" class=\"dataframe\">\n",
       "  <thead>\n",
       "    <tr style=\"text-align: right;\">\n",
       "      <th></th>\n",
       "      <th>Ind_ID</th>\n",
       "      <th>GENDER</th>\n",
       "      <th>Car_Owner</th>\n",
       "      <th>Propert_Owner</th>\n",
       "      <th>CHILDREN</th>\n",
       "      <th>Annual_income</th>\n",
       "      <th>Type_Income</th>\n",
       "      <th>EDUCATION</th>\n",
       "      <th>Marital_status</th>\n",
       "      <th>Housing_type</th>\n",
       "      <th>Birthday_count</th>\n",
       "      <th>Employed_days</th>\n",
       "      <th>Mobile_phone</th>\n",
       "      <th>Work_Phone</th>\n",
       "      <th>Phone</th>\n",
       "      <th>EMAIL_ID</th>\n",
       "      <th>Type_Occupation</th>\n",
       "      <th>Family_Members</th>\n",
       "    </tr>\n",
       "  </thead>\n",
       "  <tbody>\n",
       "    <tr>\n",
       "      <th>0</th>\n",
       "      <td>5008827</td>\n",
       "      <td>M</td>\n",
       "      <td>Y</td>\n",
       "      <td>Y</td>\n",
       "      <td>0</td>\n",
       "      <td>180000.0</td>\n",
       "      <td>Pensioner</td>\n",
       "      <td>Higher education</td>\n",
       "      <td>Married</td>\n",
       "      <td>House / apartment</td>\n",
       "      <td>-18772.0</td>\n",
       "      <td>365243</td>\n",
       "      <td>1</td>\n",
       "      <td>0</td>\n",
       "      <td>0</td>\n",
       "      <td>0</td>\n",
       "      <td>NaN</td>\n",
       "      <td>2</td>\n",
       "    </tr>\n",
       "    <tr>\n",
       "      <th>1</th>\n",
       "      <td>5009744</td>\n",
       "      <td>F</td>\n",
       "      <td>Y</td>\n",
       "      <td>N</td>\n",
       "      <td>0</td>\n",
       "      <td>315000.0</td>\n",
       "      <td>Commercial associate</td>\n",
       "      <td>Higher education</td>\n",
       "      <td>Married</td>\n",
       "      <td>House / apartment</td>\n",
       "      <td>-13557.0</td>\n",
       "      <td>-586</td>\n",
       "      <td>1</td>\n",
       "      <td>1</td>\n",
       "      <td>1</td>\n",
       "      <td>0</td>\n",
       "      <td>NaN</td>\n",
       "      <td>2</td>\n",
       "    </tr>\n",
       "    <tr>\n",
       "      <th>2</th>\n",
       "      <td>5009746</td>\n",
       "      <td>F</td>\n",
       "      <td>Y</td>\n",
       "      <td>N</td>\n",
       "      <td>0</td>\n",
       "      <td>315000.0</td>\n",
       "      <td>Commercial associate</td>\n",
       "      <td>Higher education</td>\n",
       "      <td>Married</td>\n",
       "      <td>House / apartment</td>\n",
       "      <td>NaN</td>\n",
       "      <td>-586</td>\n",
       "      <td>1</td>\n",
       "      <td>1</td>\n",
       "      <td>1</td>\n",
       "      <td>0</td>\n",
       "      <td>NaN</td>\n",
       "      <td>2</td>\n",
       "    </tr>\n",
       "    <tr>\n",
       "      <th>3</th>\n",
       "      <td>5009749</td>\n",
       "      <td>F</td>\n",
       "      <td>Y</td>\n",
       "      <td>N</td>\n",
       "      <td>0</td>\n",
       "      <td>NaN</td>\n",
       "      <td>Commercial associate</td>\n",
       "      <td>Higher education</td>\n",
       "      <td>Married</td>\n",
       "      <td>House / apartment</td>\n",
       "      <td>-13557.0</td>\n",
       "      <td>-586</td>\n",
       "      <td>1</td>\n",
       "      <td>1</td>\n",
       "      <td>1</td>\n",
       "      <td>0</td>\n",
       "      <td>NaN</td>\n",
       "      <td>2</td>\n",
       "    </tr>\n",
       "    <tr>\n",
       "      <th>4</th>\n",
       "      <td>5009752</td>\n",
       "      <td>F</td>\n",
       "      <td>Y</td>\n",
       "      <td>N</td>\n",
       "      <td>0</td>\n",
       "      <td>315000.0</td>\n",
       "      <td>Commercial associate</td>\n",
       "      <td>Higher education</td>\n",
       "      <td>Married</td>\n",
       "      <td>House / apartment</td>\n",
       "      <td>-13557.0</td>\n",
       "      <td>-586</td>\n",
       "      <td>1</td>\n",
       "      <td>1</td>\n",
       "      <td>1</td>\n",
       "      <td>0</td>\n",
       "      <td>NaN</td>\n",
       "      <td>2</td>\n",
       "    </tr>\n",
       "  </tbody>\n",
       "</table>\n",
       "</div>"
      ],
      "text/plain": [
       "    Ind_ID GENDER Car_Owner Propert_Owner  CHILDREN  Annual_income  \\\n",
       "0  5008827      M         Y             Y         0       180000.0   \n",
       "1  5009744      F         Y             N         0       315000.0   \n",
       "2  5009746      F         Y             N         0       315000.0   \n",
       "3  5009749      F         Y             N         0            NaN   \n",
       "4  5009752      F         Y             N         0       315000.0   \n",
       "\n",
       "            Type_Income         EDUCATION Marital_status       Housing_type  \\\n",
       "0             Pensioner  Higher education        Married  House / apartment   \n",
       "1  Commercial associate  Higher education        Married  House / apartment   \n",
       "2  Commercial associate  Higher education        Married  House / apartment   \n",
       "3  Commercial associate  Higher education        Married  House / apartment   \n",
       "4  Commercial associate  Higher education        Married  House / apartment   \n",
       "\n",
       "   Birthday_count  Employed_days  Mobile_phone  Work_Phone  Phone  EMAIL_ID  \\\n",
       "0        -18772.0         365243             1           0      0         0   \n",
       "1        -13557.0           -586             1           1      1         0   \n",
       "2             NaN           -586             1           1      1         0   \n",
       "3        -13557.0           -586             1           1      1         0   \n",
       "4        -13557.0           -586             1           1      1         0   \n",
       "\n",
       "  Type_Occupation  Family_Members  \n",
       "0             NaN               2  \n",
       "1             NaN               2  \n",
       "2             NaN               2  \n",
       "3             NaN               2  \n",
       "4             NaN               2  "
      ]
     },
     "execution_count": 260,
     "metadata": {},
     "output_type": "execute_result"
    }
   ],
   "source": [
    "credit_data.head()"
   ]
  },
  {
   "cell_type": "code",
   "execution_count": 261,
   "id": "25d9b833",
   "metadata": {},
   "outputs": [
    {
     "data": {
      "text/html": [
       "<div>\n",
       "<style scoped>\n",
       "    .dataframe tbody tr th:only-of-type {\n",
       "        vertical-align: middle;\n",
       "    }\n",
       "\n",
       "    .dataframe tbody tr th {\n",
       "        vertical-align: top;\n",
       "    }\n",
       "\n",
       "    .dataframe thead th {\n",
       "        text-align: right;\n",
       "    }\n",
       "</style>\n",
       "<table border=\"1\" class=\"dataframe\">\n",
       "  <thead>\n",
       "    <tr style=\"text-align: right;\">\n",
       "      <th></th>\n",
       "      <th>Ind_ID</th>\n",
       "      <th>label</th>\n",
       "    </tr>\n",
       "  </thead>\n",
       "  <tbody>\n",
       "    <tr>\n",
       "      <th>0</th>\n",
       "      <td>5008827</td>\n",
       "      <td>1</td>\n",
       "    </tr>\n",
       "    <tr>\n",
       "      <th>1</th>\n",
       "      <td>5009744</td>\n",
       "      <td>1</td>\n",
       "    </tr>\n",
       "    <tr>\n",
       "      <th>2</th>\n",
       "      <td>5009746</td>\n",
       "      <td>1</td>\n",
       "    </tr>\n",
       "    <tr>\n",
       "      <th>3</th>\n",
       "      <td>5009749</td>\n",
       "      <td>1</td>\n",
       "    </tr>\n",
       "    <tr>\n",
       "      <th>4</th>\n",
       "      <td>5009752</td>\n",
       "      <td>1</td>\n",
       "    </tr>\n",
       "  </tbody>\n",
       "</table>\n",
       "</div>"
      ],
      "text/plain": [
       "    Ind_ID  label\n",
       "0  5008827      1\n",
       "1  5009744      1\n",
       "2  5009746      1\n",
       "3  5009749      1\n",
       "4  5009752      1"
      ]
     },
     "execution_count": 261,
     "metadata": {},
     "output_type": "execute_result"
    }
   ],
   "source": [
    "credit_labels.head()"
   ]
  },
  {
   "cell_type": "code",
   "execution_count": 262,
   "id": "763153f8",
   "metadata": {},
   "outputs": [],
   "source": [
    "# Merge the datasets on the common ID column\n",
    "merged_data = pd.merge(credit_data, credit_labels, left_on='Ind_ID', right_on='Ind_ID')"
   ]
  },
  {
   "cell_type": "code",
   "execution_count": 263,
   "id": "0b7d7b7d",
   "metadata": {},
   "outputs": [
    {
     "data": {
      "text/html": [
       "<div>\n",
       "<style scoped>\n",
       "    .dataframe tbody tr th:only-of-type {\n",
       "        vertical-align: middle;\n",
       "    }\n",
       "\n",
       "    .dataframe tbody tr th {\n",
       "        vertical-align: top;\n",
       "    }\n",
       "\n",
       "    .dataframe thead th {\n",
       "        text-align: right;\n",
       "    }\n",
       "</style>\n",
       "<table border=\"1\" class=\"dataframe\">\n",
       "  <thead>\n",
       "    <tr style=\"text-align: right;\">\n",
       "      <th></th>\n",
       "      <th>Ind_ID</th>\n",
       "      <th>GENDER</th>\n",
       "      <th>Car_Owner</th>\n",
       "      <th>Propert_Owner</th>\n",
       "      <th>CHILDREN</th>\n",
       "      <th>Annual_income</th>\n",
       "      <th>Type_Income</th>\n",
       "      <th>EDUCATION</th>\n",
       "      <th>Marital_status</th>\n",
       "      <th>Housing_type</th>\n",
       "      <th>Birthday_count</th>\n",
       "      <th>Employed_days</th>\n",
       "      <th>Mobile_phone</th>\n",
       "      <th>Work_Phone</th>\n",
       "      <th>Phone</th>\n",
       "      <th>EMAIL_ID</th>\n",
       "      <th>Type_Occupation</th>\n",
       "      <th>Family_Members</th>\n",
       "      <th>label</th>\n",
       "    </tr>\n",
       "  </thead>\n",
       "  <tbody>\n",
       "    <tr>\n",
       "      <th>0</th>\n",
       "      <td>5008827</td>\n",
       "      <td>M</td>\n",
       "      <td>Y</td>\n",
       "      <td>Y</td>\n",
       "      <td>0</td>\n",
       "      <td>180000.0</td>\n",
       "      <td>Pensioner</td>\n",
       "      <td>Higher education</td>\n",
       "      <td>Married</td>\n",
       "      <td>House / apartment</td>\n",
       "      <td>-18772.0</td>\n",
       "      <td>365243</td>\n",
       "      <td>1</td>\n",
       "      <td>0</td>\n",
       "      <td>0</td>\n",
       "      <td>0</td>\n",
       "      <td>NaN</td>\n",
       "      <td>2</td>\n",
       "      <td>1</td>\n",
       "    </tr>\n",
       "    <tr>\n",
       "      <th>1</th>\n",
       "      <td>5009744</td>\n",
       "      <td>F</td>\n",
       "      <td>Y</td>\n",
       "      <td>N</td>\n",
       "      <td>0</td>\n",
       "      <td>315000.0</td>\n",
       "      <td>Commercial associate</td>\n",
       "      <td>Higher education</td>\n",
       "      <td>Married</td>\n",
       "      <td>House / apartment</td>\n",
       "      <td>-13557.0</td>\n",
       "      <td>-586</td>\n",
       "      <td>1</td>\n",
       "      <td>1</td>\n",
       "      <td>1</td>\n",
       "      <td>0</td>\n",
       "      <td>NaN</td>\n",
       "      <td>2</td>\n",
       "      <td>1</td>\n",
       "    </tr>\n",
       "    <tr>\n",
       "      <th>2</th>\n",
       "      <td>5009746</td>\n",
       "      <td>F</td>\n",
       "      <td>Y</td>\n",
       "      <td>N</td>\n",
       "      <td>0</td>\n",
       "      <td>315000.0</td>\n",
       "      <td>Commercial associate</td>\n",
       "      <td>Higher education</td>\n",
       "      <td>Married</td>\n",
       "      <td>House / apartment</td>\n",
       "      <td>NaN</td>\n",
       "      <td>-586</td>\n",
       "      <td>1</td>\n",
       "      <td>1</td>\n",
       "      <td>1</td>\n",
       "      <td>0</td>\n",
       "      <td>NaN</td>\n",
       "      <td>2</td>\n",
       "      <td>1</td>\n",
       "    </tr>\n",
       "    <tr>\n",
       "      <th>3</th>\n",
       "      <td>5009749</td>\n",
       "      <td>F</td>\n",
       "      <td>Y</td>\n",
       "      <td>N</td>\n",
       "      <td>0</td>\n",
       "      <td>NaN</td>\n",
       "      <td>Commercial associate</td>\n",
       "      <td>Higher education</td>\n",
       "      <td>Married</td>\n",
       "      <td>House / apartment</td>\n",
       "      <td>-13557.0</td>\n",
       "      <td>-586</td>\n",
       "      <td>1</td>\n",
       "      <td>1</td>\n",
       "      <td>1</td>\n",
       "      <td>0</td>\n",
       "      <td>NaN</td>\n",
       "      <td>2</td>\n",
       "      <td>1</td>\n",
       "    </tr>\n",
       "    <tr>\n",
       "      <th>4</th>\n",
       "      <td>5009752</td>\n",
       "      <td>F</td>\n",
       "      <td>Y</td>\n",
       "      <td>N</td>\n",
       "      <td>0</td>\n",
       "      <td>315000.0</td>\n",
       "      <td>Commercial associate</td>\n",
       "      <td>Higher education</td>\n",
       "      <td>Married</td>\n",
       "      <td>House / apartment</td>\n",
       "      <td>-13557.0</td>\n",
       "      <td>-586</td>\n",
       "      <td>1</td>\n",
       "      <td>1</td>\n",
       "      <td>1</td>\n",
       "      <td>0</td>\n",
       "      <td>NaN</td>\n",
       "      <td>2</td>\n",
       "      <td>1</td>\n",
       "    </tr>\n",
       "  </tbody>\n",
       "</table>\n",
       "</div>"
      ],
      "text/plain": [
       "    Ind_ID GENDER Car_Owner Propert_Owner  CHILDREN  Annual_income  \\\n",
       "0  5008827      M         Y             Y         0       180000.0   \n",
       "1  5009744      F         Y             N         0       315000.0   \n",
       "2  5009746      F         Y             N         0       315000.0   \n",
       "3  5009749      F         Y             N         0            NaN   \n",
       "4  5009752      F         Y             N         0       315000.0   \n",
       "\n",
       "            Type_Income         EDUCATION Marital_status       Housing_type  \\\n",
       "0             Pensioner  Higher education        Married  House / apartment   \n",
       "1  Commercial associate  Higher education        Married  House / apartment   \n",
       "2  Commercial associate  Higher education        Married  House / apartment   \n",
       "3  Commercial associate  Higher education        Married  House / apartment   \n",
       "4  Commercial associate  Higher education        Married  House / apartment   \n",
       "\n",
       "   Birthday_count  Employed_days  Mobile_phone  Work_Phone  Phone  EMAIL_ID  \\\n",
       "0        -18772.0         365243             1           0      0         0   \n",
       "1        -13557.0           -586             1           1      1         0   \n",
       "2             NaN           -586             1           1      1         0   \n",
       "3        -13557.0           -586             1           1      1         0   \n",
       "4        -13557.0           -586             1           1      1         0   \n",
       "\n",
       "  Type_Occupation  Family_Members  label  \n",
       "0             NaN               2      1  \n",
       "1             NaN               2      1  \n",
       "2             NaN               2      1  \n",
       "3             NaN               2      1  \n",
       "4             NaN               2      1  "
      ]
     },
     "execution_count": 263,
     "metadata": {},
     "output_type": "execute_result"
    }
   ],
   "source": [
    "merged_data.head()"
   ]
  },
  {
   "cell_type": "code",
   "execution_count": 264,
   "id": "ae5dab57",
   "metadata": {},
   "outputs": [
    {
     "name": "stdout",
     "output_type": "stream",
     "text": [
      "<class 'pandas.core.frame.DataFrame'>\n",
      "Int64Index: 1548 entries, 0 to 1547\n",
      "Data columns (total 19 columns):\n",
      " #   Column           Non-Null Count  Dtype  \n",
      "---  ------           --------------  -----  \n",
      " 0   Ind_ID           1548 non-null   int64  \n",
      " 1   GENDER           1541 non-null   object \n",
      " 2   Car_Owner        1548 non-null   object \n",
      " 3   Propert_Owner    1548 non-null   object \n",
      " 4   CHILDREN         1548 non-null   int64  \n",
      " 5   Annual_income    1525 non-null   float64\n",
      " 6   Type_Income      1548 non-null   object \n",
      " 7   EDUCATION        1548 non-null   object \n",
      " 8   Marital_status   1548 non-null   object \n",
      " 9   Housing_type     1548 non-null   object \n",
      " 10  Birthday_count   1526 non-null   float64\n",
      " 11  Employed_days    1548 non-null   int64  \n",
      " 12  Mobile_phone     1548 non-null   int64  \n",
      " 13  Work_Phone       1548 non-null   int64  \n",
      " 14  Phone            1548 non-null   int64  \n",
      " 15  EMAIL_ID         1548 non-null   int64  \n",
      " 16  Type_Occupation  1060 non-null   object \n",
      " 17  Family_Members   1548 non-null   int64  \n",
      " 18  label            1548 non-null   int64  \n",
      "dtypes: float64(2), int64(9), object(8)\n",
      "memory usage: 241.9+ KB\n"
     ]
    }
   ],
   "source": [
    "merged_data.info()"
   ]
  },
  {
   "cell_type": "code",
   "execution_count": 265,
   "id": "cabeb3e0",
   "metadata": {},
   "outputs": [],
   "source": [
    "# Rename the 'Label' column to 'Application_Status'\n",
    "merged_data.rename(columns={'label': 'Application_Status'}, inplace=True)"
   ]
  },
  {
   "cell_type": "code",
   "execution_count": 266,
   "id": "5bd563e1",
   "metadata": {},
   "outputs": [
    {
     "data": {
      "text/html": [
       "<div>\n",
       "<style scoped>\n",
       "    .dataframe tbody tr th:only-of-type {\n",
       "        vertical-align: middle;\n",
       "    }\n",
       "\n",
       "    .dataframe tbody tr th {\n",
       "        vertical-align: top;\n",
       "    }\n",
       "\n",
       "    .dataframe thead th {\n",
       "        text-align: right;\n",
       "    }\n",
       "</style>\n",
       "<table border=\"1\" class=\"dataframe\">\n",
       "  <thead>\n",
       "    <tr style=\"text-align: right;\">\n",
       "      <th></th>\n",
       "      <th>Ind_ID</th>\n",
       "      <th>GENDER</th>\n",
       "      <th>Car_Owner</th>\n",
       "      <th>Propert_Owner</th>\n",
       "      <th>CHILDREN</th>\n",
       "      <th>Annual_income</th>\n",
       "      <th>Type_Income</th>\n",
       "      <th>EDUCATION</th>\n",
       "      <th>Marital_status</th>\n",
       "      <th>Housing_type</th>\n",
       "      <th>Birthday_count</th>\n",
       "      <th>Employed_days</th>\n",
       "      <th>Mobile_phone</th>\n",
       "      <th>Work_Phone</th>\n",
       "      <th>Phone</th>\n",
       "      <th>EMAIL_ID</th>\n",
       "      <th>Type_Occupation</th>\n",
       "      <th>Family_Members</th>\n",
       "      <th>Application_Status</th>\n",
       "    </tr>\n",
       "  </thead>\n",
       "  <tbody>\n",
       "    <tr>\n",
       "      <th>0</th>\n",
       "      <td>5008827</td>\n",
       "      <td>M</td>\n",
       "      <td>Y</td>\n",
       "      <td>Y</td>\n",
       "      <td>0</td>\n",
       "      <td>180000.0</td>\n",
       "      <td>Pensioner</td>\n",
       "      <td>Higher education</td>\n",
       "      <td>Married</td>\n",
       "      <td>House / apartment</td>\n",
       "      <td>-18772.0</td>\n",
       "      <td>365243</td>\n",
       "      <td>1</td>\n",
       "      <td>0</td>\n",
       "      <td>0</td>\n",
       "      <td>0</td>\n",
       "      <td>NaN</td>\n",
       "      <td>2</td>\n",
       "      <td>1</td>\n",
       "    </tr>\n",
       "    <tr>\n",
       "      <th>1</th>\n",
       "      <td>5009744</td>\n",
       "      <td>F</td>\n",
       "      <td>Y</td>\n",
       "      <td>N</td>\n",
       "      <td>0</td>\n",
       "      <td>315000.0</td>\n",
       "      <td>Commercial associate</td>\n",
       "      <td>Higher education</td>\n",
       "      <td>Married</td>\n",
       "      <td>House / apartment</td>\n",
       "      <td>-13557.0</td>\n",
       "      <td>-586</td>\n",
       "      <td>1</td>\n",
       "      <td>1</td>\n",
       "      <td>1</td>\n",
       "      <td>0</td>\n",
       "      <td>NaN</td>\n",
       "      <td>2</td>\n",
       "      <td>1</td>\n",
       "    </tr>\n",
       "    <tr>\n",
       "      <th>2</th>\n",
       "      <td>5009746</td>\n",
       "      <td>F</td>\n",
       "      <td>Y</td>\n",
       "      <td>N</td>\n",
       "      <td>0</td>\n",
       "      <td>315000.0</td>\n",
       "      <td>Commercial associate</td>\n",
       "      <td>Higher education</td>\n",
       "      <td>Married</td>\n",
       "      <td>House / apartment</td>\n",
       "      <td>NaN</td>\n",
       "      <td>-586</td>\n",
       "      <td>1</td>\n",
       "      <td>1</td>\n",
       "      <td>1</td>\n",
       "      <td>0</td>\n",
       "      <td>NaN</td>\n",
       "      <td>2</td>\n",
       "      <td>1</td>\n",
       "    </tr>\n",
       "    <tr>\n",
       "      <th>3</th>\n",
       "      <td>5009749</td>\n",
       "      <td>F</td>\n",
       "      <td>Y</td>\n",
       "      <td>N</td>\n",
       "      <td>0</td>\n",
       "      <td>NaN</td>\n",
       "      <td>Commercial associate</td>\n",
       "      <td>Higher education</td>\n",
       "      <td>Married</td>\n",
       "      <td>House / apartment</td>\n",
       "      <td>-13557.0</td>\n",
       "      <td>-586</td>\n",
       "      <td>1</td>\n",
       "      <td>1</td>\n",
       "      <td>1</td>\n",
       "      <td>0</td>\n",
       "      <td>NaN</td>\n",
       "      <td>2</td>\n",
       "      <td>1</td>\n",
       "    </tr>\n",
       "    <tr>\n",
       "      <th>4</th>\n",
       "      <td>5009752</td>\n",
       "      <td>F</td>\n",
       "      <td>Y</td>\n",
       "      <td>N</td>\n",
       "      <td>0</td>\n",
       "      <td>315000.0</td>\n",
       "      <td>Commercial associate</td>\n",
       "      <td>Higher education</td>\n",
       "      <td>Married</td>\n",
       "      <td>House / apartment</td>\n",
       "      <td>-13557.0</td>\n",
       "      <td>-586</td>\n",
       "      <td>1</td>\n",
       "      <td>1</td>\n",
       "      <td>1</td>\n",
       "      <td>0</td>\n",
       "      <td>NaN</td>\n",
       "      <td>2</td>\n",
       "      <td>1</td>\n",
       "    </tr>\n",
       "  </tbody>\n",
       "</table>\n",
       "</div>"
      ],
      "text/plain": [
       "    Ind_ID GENDER Car_Owner Propert_Owner  CHILDREN  Annual_income  \\\n",
       "0  5008827      M         Y             Y         0       180000.0   \n",
       "1  5009744      F         Y             N         0       315000.0   \n",
       "2  5009746      F         Y             N         0       315000.0   \n",
       "3  5009749      F         Y             N         0            NaN   \n",
       "4  5009752      F         Y             N         0       315000.0   \n",
       "\n",
       "            Type_Income         EDUCATION Marital_status       Housing_type  \\\n",
       "0             Pensioner  Higher education        Married  House / apartment   \n",
       "1  Commercial associate  Higher education        Married  House / apartment   \n",
       "2  Commercial associate  Higher education        Married  House / apartment   \n",
       "3  Commercial associate  Higher education        Married  House / apartment   \n",
       "4  Commercial associate  Higher education        Married  House / apartment   \n",
       "\n",
       "   Birthday_count  Employed_days  Mobile_phone  Work_Phone  Phone  EMAIL_ID  \\\n",
       "0        -18772.0         365243             1           0      0         0   \n",
       "1        -13557.0           -586             1           1      1         0   \n",
       "2             NaN           -586             1           1      1         0   \n",
       "3        -13557.0           -586             1           1      1         0   \n",
       "4        -13557.0           -586             1           1      1         0   \n",
       "\n",
       "  Type_Occupation  Family_Members  Application_Status  \n",
       "0             NaN               2                   1  \n",
       "1             NaN               2                   1  \n",
       "2             NaN               2                   1  \n",
       "3             NaN               2                   1  \n",
       "4             NaN               2                   1  "
      ]
     },
     "execution_count": 266,
     "metadata": {},
     "output_type": "execute_result"
    }
   ],
   "source": [
    "merged_data.head()"
   ]
  },
  {
   "cell_type": "code",
   "execution_count": 267,
   "id": "a07e9bc1",
   "metadata": {},
   "outputs": [
    {
     "name": "stdout",
     "output_type": "stream",
     "text": [
      "number of rows:  1548\n"
     ]
    }
   ],
   "source": [
    "print(\"number of rows: \", merged_data.shape[0])"
   ]
  },
  {
   "cell_type": "code",
   "execution_count": 268,
   "id": "62fd5496",
   "metadata": {},
   "outputs": [
    {
     "name": "stdout",
     "output_type": "stream",
     "text": [
      "number of columns:  19\n"
     ]
    }
   ],
   "source": [
    "print(\"number of columns: \", merged_data.shape[1])"
   ]
  },
  {
   "cell_type": "code",
   "execution_count": 269,
   "id": "2963cab3",
   "metadata": {},
   "outputs": [
    {
     "name": "stdout",
     "output_type": "stream",
     "text": [
      "object\n"
     ]
    }
   ],
   "source": [
    "# Convert 'Ind_ID' column to string\n",
    "merged_data['Ind_ID'] = merged_data['Ind_ID'].astype(str)\n",
    "\n",
    "# Verify the change\n",
    "print(merged_data['Ind_ID'].dtype)  # Should display 'object' or 'string'"
   ]
  },
  {
   "cell_type": "markdown",
   "id": "ad86390b",
   "metadata": {},
   "source": [
    "IDs are typically identifiers and not used for numerical calculations, so converting them to strings is more semantically correct."
   ]
  },
  {
   "cell_type": "markdown",
   "id": "d70ca442",
   "metadata": {},
   "source": [
    "# Exploratory Data Analysis"
   ]
  },
  {
   "cell_type": "code",
   "execution_count": 270,
   "id": "1b676a4e",
   "metadata": {},
   "outputs": [
    {
     "name": "stdout",
     "output_type": "stream",
     "text": [
      "0\n"
     ]
    }
   ],
   "source": [
    "# Identify duplicate rows\n",
    "duplicates = merged_data.duplicated()\n",
    "\n",
    "# Count the number of duplicate rows\n",
    "num_duplicates = duplicates.sum()\n",
    "\n",
    "print(num_duplicates)"
   ]
  },
  {
   "cell_type": "code",
   "execution_count": 271,
   "id": "fef163cb",
   "metadata": {},
   "outputs": [
    {
     "data": {
      "text/html": [
       "<div>\n",
       "<style scoped>\n",
       "    .dataframe tbody tr th:only-of-type {\n",
       "        vertical-align: middle;\n",
       "    }\n",
       "\n",
       "    .dataframe tbody tr th {\n",
       "        vertical-align: top;\n",
       "    }\n",
       "\n",
       "    .dataframe thead th {\n",
       "        text-align: right;\n",
       "    }\n",
       "</style>\n",
       "<table border=\"1\" class=\"dataframe\">\n",
       "  <thead>\n",
       "    <tr style=\"text-align: right;\">\n",
       "      <th></th>\n",
       "      <th>CHILDREN</th>\n",
       "      <th>Annual_income</th>\n",
       "      <th>Birthday_count</th>\n",
       "      <th>Employed_days</th>\n",
       "      <th>Mobile_phone</th>\n",
       "      <th>Work_Phone</th>\n",
       "      <th>Phone</th>\n",
       "      <th>EMAIL_ID</th>\n",
       "      <th>Family_Members</th>\n",
       "      <th>Application_Status</th>\n",
       "    </tr>\n",
       "  </thead>\n",
       "  <tbody>\n",
       "    <tr>\n",
       "      <th>count</th>\n",
       "      <td>1548.000000</td>\n",
       "      <td>1.525000e+03</td>\n",
       "      <td>1526.000000</td>\n",
       "      <td>1548.000000</td>\n",
       "      <td>1548.0</td>\n",
       "      <td>1548.000000</td>\n",
       "      <td>1548.000000</td>\n",
       "      <td>1548.000000</td>\n",
       "      <td>1548.000000</td>\n",
       "      <td>1548.000000</td>\n",
       "    </tr>\n",
       "    <tr>\n",
       "      <th>mean</th>\n",
       "      <td>0.412791</td>\n",
       "      <td>1.913993e+05</td>\n",
       "      <td>-16040.342071</td>\n",
       "      <td>59364.689922</td>\n",
       "      <td>1.0</td>\n",
       "      <td>0.208010</td>\n",
       "      <td>0.309432</td>\n",
       "      <td>0.092377</td>\n",
       "      <td>2.161499</td>\n",
       "      <td>0.113049</td>\n",
       "    </tr>\n",
       "    <tr>\n",
       "      <th>std</th>\n",
       "      <td>0.776691</td>\n",
       "      <td>1.132530e+05</td>\n",
       "      <td>4229.503202</td>\n",
       "      <td>137808.062701</td>\n",
       "      <td>0.0</td>\n",
       "      <td>0.406015</td>\n",
       "      <td>0.462409</td>\n",
       "      <td>0.289651</td>\n",
       "      <td>0.947772</td>\n",
       "      <td>0.316755</td>\n",
       "    </tr>\n",
       "    <tr>\n",
       "      <th>min</th>\n",
       "      <td>0.000000</td>\n",
       "      <td>3.375000e+04</td>\n",
       "      <td>-24946.000000</td>\n",
       "      <td>-14887.000000</td>\n",
       "      <td>1.0</td>\n",
       "      <td>0.000000</td>\n",
       "      <td>0.000000</td>\n",
       "      <td>0.000000</td>\n",
       "      <td>1.000000</td>\n",
       "      <td>0.000000</td>\n",
       "    </tr>\n",
       "    <tr>\n",
       "      <th>25%</th>\n",
       "      <td>0.000000</td>\n",
       "      <td>1.215000e+05</td>\n",
       "      <td>-19553.000000</td>\n",
       "      <td>-3174.500000</td>\n",
       "      <td>1.0</td>\n",
       "      <td>0.000000</td>\n",
       "      <td>0.000000</td>\n",
       "      <td>0.000000</td>\n",
       "      <td>2.000000</td>\n",
       "      <td>0.000000</td>\n",
       "    </tr>\n",
       "    <tr>\n",
       "      <th>50%</th>\n",
       "      <td>0.000000</td>\n",
       "      <td>1.665000e+05</td>\n",
       "      <td>-15661.500000</td>\n",
       "      <td>-1565.000000</td>\n",
       "      <td>1.0</td>\n",
       "      <td>0.000000</td>\n",
       "      <td>0.000000</td>\n",
       "      <td>0.000000</td>\n",
       "      <td>2.000000</td>\n",
       "      <td>0.000000</td>\n",
       "    </tr>\n",
       "    <tr>\n",
       "      <th>75%</th>\n",
       "      <td>1.000000</td>\n",
       "      <td>2.250000e+05</td>\n",
       "      <td>-12417.000000</td>\n",
       "      <td>-431.750000</td>\n",
       "      <td>1.0</td>\n",
       "      <td>0.000000</td>\n",
       "      <td>1.000000</td>\n",
       "      <td>0.000000</td>\n",
       "      <td>3.000000</td>\n",
       "      <td>0.000000</td>\n",
       "    </tr>\n",
       "    <tr>\n",
       "      <th>max</th>\n",
       "      <td>14.000000</td>\n",
       "      <td>1.575000e+06</td>\n",
       "      <td>-7705.000000</td>\n",
       "      <td>365243.000000</td>\n",
       "      <td>1.0</td>\n",
       "      <td>1.000000</td>\n",
       "      <td>1.000000</td>\n",
       "      <td>1.000000</td>\n",
       "      <td>15.000000</td>\n",
       "      <td>1.000000</td>\n",
       "    </tr>\n",
       "  </tbody>\n",
       "</table>\n",
       "</div>"
      ],
      "text/plain": [
       "          CHILDREN  Annual_income  Birthday_count  Employed_days  \\\n",
       "count  1548.000000   1.525000e+03     1526.000000    1548.000000   \n",
       "mean      0.412791   1.913993e+05   -16040.342071   59364.689922   \n",
       "std       0.776691   1.132530e+05     4229.503202  137808.062701   \n",
       "min       0.000000   3.375000e+04   -24946.000000  -14887.000000   \n",
       "25%       0.000000   1.215000e+05   -19553.000000   -3174.500000   \n",
       "50%       0.000000   1.665000e+05   -15661.500000   -1565.000000   \n",
       "75%       1.000000   2.250000e+05   -12417.000000    -431.750000   \n",
       "max      14.000000   1.575000e+06    -7705.000000  365243.000000   \n",
       "\n",
       "       Mobile_phone   Work_Phone        Phone     EMAIL_ID  Family_Members  \\\n",
       "count        1548.0  1548.000000  1548.000000  1548.000000     1548.000000   \n",
       "mean            1.0     0.208010     0.309432     0.092377        2.161499   \n",
       "std             0.0     0.406015     0.462409     0.289651        0.947772   \n",
       "min             1.0     0.000000     0.000000     0.000000        1.000000   \n",
       "25%             1.0     0.000000     0.000000     0.000000        2.000000   \n",
       "50%             1.0     0.000000     0.000000     0.000000        2.000000   \n",
       "75%             1.0     0.000000     1.000000     0.000000        3.000000   \n",
       "max             1.0     1.000000     1.000000     1.000000       15.000000   \n",
       "\n",
       "       Application_Status  \n",
       "count         1548.000000  \n",
       "mean             0.113049  \n",
       "std              0.316755  \n",
       "min              0.000000  \n",
       "25%              0.000000  \n",
       "50%              0.000000  \n",
       "75%              0.000000  \n",
       "max              1.000000  "
      ]
     },
     "execution_count": 271,
     "metadata": {},
     "output_type": "execute_result"
    }
   ],
   "source": [
    "# Summary statistics for numerical columns\n",
    "merged_data.describe()"
   ]
  },
  {
   "cell_type": "markdown",
   "id": "ffada233",
   "metadata": {},
   "source": [
    "Key Takeaways from Descriptive Statistics\n",
    "\n",
    "Potential Outliers:\n",
    "\n",
    "CHILDREN has a maximum value of 14, which may not be realistic and could indicate data entry errors or outliers.\n",
    "Annual_income and Family_Members exhibit unusually high maximum values that should be further investigated.\n",
    "Missing Data:\n",
    "\n",
    "Columns like Annual_income and Birthday_count have fewer entries (1525 and 1526 compared to 1548 total rows), indicating missing values that require handling.\n",
    "Imbalanced Target Variable:\n",
    "\n",
    "The Application_Status column (target variable) shows an imbalance, with 88.7% applications approved (0) and only 11.3% rejected (1). Special handling (e.g., SMOTE, class weighting) may be required during modeling.\n",
    "Variability in Features:\n",
    "\n",
    "Significant variability is observed in Annual_income (mean: $191,399; max: $1.57M) and Employed_days (std: 137,808), which could impact model performance.\n",
    "Binary columns like Mobile_phone have no variability (all values are 1), making them uninformative for prediction.\n",
    "General Insights:\n",
    "\n",
    "The average family size (Family_Members) is 2.16, with a maximum of 15.\n",
    "Most clients have no children (median: 0) and are either currently unemployed or have been employed for varied periods (e.g., negative values for Employed_days)."
   ]
  },
  {
   "cell_type": "code",
   "execution_count": 272,
   "id": "0cfa3052",
   "metadata": {},
   "outputs": [
    {
     "name": "stdout",
     "output_type": "stream",
     "text": [
      "Index(['ind_id', 'gender', 'car_owner', 'propert_owner', 'children',\n",
      "       'annual_income', 'type_income', 'education', 'marital_status',\n",
      "       'housing_type', 'birthday_count', 'employed_days', 'mobile_phone',\n",
      "       'work_phone', 'phone', 'email_id', 'type_occupation', 'family_members',\n",
      "       'application_status'],\n",
      "      dtype='object')\n"
     ]
    }
   ],
   "source": [
    "# Convert all column names to lowercase\n",
    "merged_data.columns = merged_data.columns.str.lower()\n",
    "\n",
    "# Verify the column names\n",
    "print(merged_data.columns)\n"
   ]
  },
  {
   "cell_type": "code",
   "execution_count": 273,
   "id": "8f800e1e",
   "metadata": {},
   "outputs": [
    {
     "data": {
      "text/html": [
       "<div>\n",
       "<style scoped>\n",
       "    .dataframe tbody tr th:only-of-type {\n",
       "        vertical-align: middle;\n",
       "    }\n",
       "\n",
       "    .dataframe tbody tr th {\n",
       "        vertical-align: top;\n",
       "    }\n",
       "\n",
       "    .dataframe thead th {\n",
       "        text-align: right;\n",
       "    }\n",
       "</style>\n",
       "<table border=\"1\" class=\"dataframe\">\n",
       "  <thead>\n",
       "    <tr style=\"text-align: right;\">\n",
       "      <th></th>\n",
       "      <th>ind_id</th>\n",
       "      <th>gender</th>\n",
       "      <th>car_owner</th>\n",
       "      <th>propert_owner</th>\n",
       "      <th>children</th>\n",
       "      <th>annual_income</th>\n",
       "      <th>type_income</th>\n",
       "      <th>education</th>\n",
       "      <th>marital_status</th>\n",
       "      <th>housing_type</th>\n",
       "      <th>birthday_count</th>\n",
       "      <th>employed_days</th>\n",
       "      <th>mobile_phone</th>\n",
       "      <th>work_phone</th>\n",
       "      <th>phone</th>\n",
       "      <th>email_id</th>\n",
       "      <th>type_occupation</th>\n",
       "      <th>family_members</th>\n",
       "      <th>application_status</th>\n",
       "    </tr>\n",
       "  </thead>\n",
       "  <tbody>\n",
       "    <tr>\n",
       "      <th>0</th>\n",
       "      <td>5008827</td>\n",
       "      <td>M</td>\n",
       "      <td>Y</td>\n",
       "      <td>Y</td>\n",
       "      <td>0</td>\n",
       "      <td>180000.0</td>\n",
       "      <td>Pensioner</td>\n",
       "      <td>Higher education</td>\n",
       "      <td>Married</td>\n",
       "      <td>House / apartment</td>\n",
       "      <td>-18772.0</td>\n",
       "      <td>365243</td>\n",
       "      <td>1</td>\n",
       "      <td>0</td>\n",
       "      <td>0</td>\n",
       "      <td>0</td>\n",
       "      <td>NaN</td>\n",
       "      <td>2</td>\n",
       "      <td>1</td>\n",
       "    </tr>\n",
       "    <tr>\n",
       "      <th>1</th>\n",
       "      <td>5009744</td>\n",
       "      <td>F</td>\n",
       "      <td>Y</td>\n",
       "      <td>N</td>\n",
       "      <td>0</td>\n",
       "      <td>315000.0</td>\n",
       "      <td>Commercial associate</td>\n",
       "      <td>Higher education</td>\n",
       "      <td>Married</td>\n",
       "      <td>House / apartment</td>\n",
       "      <td>-13557.0</td>\n",
       "      <td>-586</td>\n",
       "      <td>1</td>\n",
       "      <td>1</td>\n",
       "      <td>1</td>\n",
       "      <td>0</td>\n",
       "      <td>NaN</td>\n",
       "      <td>2</td>\n",
       "      <td>1</td>\n",
       "    </tr>\n",
       "    <tr>\n",
       "      <th>2</th>\n",
       "      <td>5009746</td>\n",
       "      <td>F</td>\n",
       "      <td>Y</td>\n",
       "      <td>N</td>\n",
       "      <td>0</td>\n",
       "      <td>315000.0</td>\n",
       "      <td>Commercial associate</td>\n",
       "      <td>Higher education</td>\n",
       "      <td>Married</td>\n",
       "      <td>House / apartment</td>\n",
       "      <td>NaN</td>\n",
       "      <td>-586</td>\n",
       "      <td>1</td>\n",
       "      <td>1</td>\n",
       "      <td>1</td>\n",
       "      <td>0</td>\n",
       "      <td>NaN</td>\n",
       "      <td>2</td>\n",
       "      <td>1</td>\n",
       "    </tr>\n",
       "    <tr>\n",
       "      <th>3</th>\n",
       "      <td>5009749</td>\n",
       "      <td>F</td>\n",
       "      <td>Y</td>\n",
       "      <td>N</td>\n",
       "      <td>0</td>\n",
       "      <td>NaN</td>\n",
       "      <td>Commercial associate</td>\n",
       "      <td>Higher education</td>\n",
       "      <td>Married</td>\n",
       "      <td>House / apartment</td>\n",
       "      <td>-13557.0</td>\n",
       "      <td>-586</td>\n",
       "      <td>1</td>\n",
       "      <td>1</td>\n",
       "      <td>1</td>\n",
       "      <td>0</td>\n",
       "      <td>NaN</td>\n",
       "      <td>2</td>\n",
       "      <td>1</td>\n",
       "    </tr>\n",
       "    <tr>\n",
       "      <th>4</th>\n",
       "      <td>5009752</td>\n",
       "      <td>F</td>\n",
       "      <td>Y</td>\n",
       "      <td>N</td>\n",
       "      <td>0</td>\n",
       "      <td>315000.0</td>\n",
       "      <td>Commercial associate</td>\n",
       "      <td>Higher education</td>\n",
       "      <td>Married</td>\n",
       "      <td>House / apartment</td>\n",
       "      <td>-13557.0</td>\n",
       "      <td>-586</td>\n",
       "      <td>1</td>\n",
       "      <td>1</td>\n",
       "      <td>1</td>\n",
       "      <td>0</td>\n",
       "      <td>NaN</td>\n",
       "      <td>2</td>\n",
       "      <td>1</td>\n",
       "    </tr>\n",
       "  </tbody>\n",
       "</table>\n",
       "</div>"
      ],
      "text/plain": [
       "    ind_id gender car_owner propert_owner  children  annual_income  \\\n",
       "0  5008827      M         Y             Y         0       180000.0   \n",
       "1  5009744      F         Y             N         0       315000.0   \n",
       "2  5009746      F         Y             N         0       315000.0   \n",
       "3  5009749      F         Y             N         0            NaN   \n",
       "4  5009752      F         Y             N         0       315000.0   \n",
       "\n",
       "            type_income         education marital_status       housing_type  \\\n",
       "0             Pensioner  Higher education        Married  House / apartment   \n",
       "1  Commercial associate  Higher education        Married  House / apartment   \n",
       "2  Commercial associate  Higher education        Married  House / apartment   \n",
       "3  Commercial associate  Higher education        Married  House / apartment   \n",
       "4  Commercial associate  Higher education        Married  House / apartment   \n",
       "\n",
       "   birthday_count  employed_days  mobile_phone  work_phone  phone  email_id  \\\n",
       "0        -18772.0         365243             1           0      0         0   \n",
       "1        -13557.0           -586             1           1      1         0   \n",
       "2             NaN           -586             1           1      1         0   \n",
       "3        -13557.0           -586             1           1      1         0   \n",
       "4        -13557.0           -586             1           1      1         0   \n",
       "\n",
       "  type_occupation  family_members  application_status  \n",
       "0             NaN               2                   1  \n",
       "1             NaN               2                   1  \n",
       "2             NaN               2                   1  \n",
       "3             NaN               2                   1  \n",
       "4             NaN               2                   1  "
      ]
     },
     "execution_count": 273,
     "metadata": {},
     "output_type": "execute_result"
    }
   ],
   "source": [
    "merged_data.head()"
   ]
  },
  {
   "cell_type": "markdown",
   "id": "c21e2c92",
   "metadata": {},
   "source": [
    "# Data Pre-processing"
   ]
  },
  {
   "cell_type": "markdown",
   "id": "373df49c",
   "metadata": {},
   "source": [
    "Before starting anything, I am going to drop ind_id column becuse it has no importance in determining the application_status."
   ]
  },
  {
   "cell_type": "code",
   "execution_count": 274,
   "id": "62274cb2",
   "metadata": {},
   "outputs": [
    {
     "name": "stdout",
     "output_type": "stream",
     "text": [
      "Columns after dropping 'ind_id':\n",
      "Index(['gender', 'car_owner', 'propert_owner', 'children', 'annual_income',\n",
      "       'type_income', 'education', 'marital_status', 'housing_type',\n",
      "       'birthday_count', 'employed_days', 'mobile_phone', 'work_phone',\n",
      "       'phone', 'email_id', 'type_occupation', 'family_members',\n",
      "       'application_status'],\n",
      "      dtype='object')\n"
     ]
    }
   ],
   "source": [
    "# Drop the 'Employed_days' column\n",
    "merged_data.drop(columns=['ind_id'], inplace=True)\n",
    "\n",
    "# Verify the column has been removed\n",
    "print(\"Columns after dropping 'ind_id':\")\n",
    "print(merged_data.columns)"
   ]
  },
  {
   "cell_type": "markdown",
   "id": "ce6a5168",
   "metadata": {},
   "source": [
    "##  Identify Missing Values"
   ]
  },
  {
   "cell_type": "code",
   "execution_count": 275,
   "id": "821f36a7",
   "metadata": {},
   "outputs": [
    {
     "name": "stdout",
     "output_type": "stream",
     "text": [
      "Missing Data:\n",
      "gender               7\n",
      "annual_income       23\n",
      "birthday_count      22\n",
      "type_occupation    488\n",
      "dtype: int64\n",
      "\n",
      "Percentage of Missing Data:\n",
      "gender              0.452196\n",
      "annual_income       1.485788\n",
      "birthday_count      1.421189\n",
      "type_occupation    31.524548\n",
      "dtype: float64\n"
     ]
    }
   ],
   "source": [
    "# Check for missing values\n",
    "missing_data = merged_data.isnull().sum()\n",
    "\n",
    "# Calculate the percentage of missing data for each column\n",
    "missing_percentage = (missing_data / len(merged_data)) * 100\n",
    "\n",
    "# Display columns with missing values\n",
    "print(\"Missing Data:\")\n",
    "print(missing_data[missing_data > 0])\n",
    "print(\"\\nPercentage of Missing Data:\")\n",
    "print(missing_percentage[missing_percentage > 0])"
   ]
  },
  {
   "cell_type": "markdown",
   "id": "f386eddb",
   "metadata": {},
   "source": [
    "## Handling missing values"
   ]
  },
  {
   "cell_type": "markdown",
   "id": "a12898d2",
   "metadata": {},
   "source": [
    "1. Gender (Categorical, Low Missingness)\n",
    "\n",
    "Action: Replace missing values with the mode (most frequent value)."
   ]
  },
  {
   "cell_type": "code",
   "execution_count": 276,
   "id": "3b2152be",
   "metadata": {},
   "outputs": [],
   "source": [
    "# Fill missing values in 'gender' with mode\n",
    "merged_data['gender'].fillna(merged_data['gender'].mode()[0], inplace=True)"
   ]
  },
  {
   "cell_type": "markdown",
   "id": "624187fa",
   "metadata": {},
   "source": [
    "2. Annual_income (Numerical, Low Missingness)\n",
    "\n",
    "Action: Replace missing values with the median to minimize the impact of outliers."
   ]
  },
  {
   "cell_type": "code",
   "execution_count": 277,
   "id": "dd77ee99",
   "metadata": {},
   "outputs": [],
   "source": [
    "# Fill missing values in 'annual_income' with median\n",
    "merged_data['annual_income'].fillna(merged_data['annual_income'].median(), inplace=True)"
   ]
  },
  {
   "cell_type": "markdown",
   "id": "47fc5833",
   "metadata": {},
   "source": [
    "3. Birthday_count (Numerical, Low Missingness)\n",
    "\n",
    "Action: Replace missing values with the median, similar to annual_income."
   ]
  },
  {
   "cell_type": "code",
   "execution_count": 278,
   "id": "49db6c8b",
   "metadata": {},
   "outputs": [],
   "source": [
    "# Fill missing values in 'birthday_count' with median\n",
    "merged_data['birthday_count'].fillna(merged_data['birthday_count'].median(), inplace=True)"
   ]
  },
  {
   "cell_type": "markdown",
   "id": "f980ff87",
   "metadata": {},
   "source": [
    "4. Type_Occupation (Categorical, High Missingness)"
   ]
  },
  {
   "cell_type": "code",
   "execution_count": 279,
   "id": "66dee72d",
   "metadata": {},
   "outputs": [
    {
     "name": "stdout",
     "output_type": "stream",
     "text": [
      "Counts of unique values in Type_Occupation:\n",
      "Laborers                 268\n",
      "Core staff               174\n",
      "Managers                 136\n",
      "Sales staff              122\n",
      "Drivers                   86\n",
      "High skill tech staff     65\n",
      "Medicine staff            50\n",
      "Accountants               44\n",
      "Security staff            25\n",
      "Cleaning staff            22\n",
      "Cooking staff             21\n",
      "Private service staff     17\n",
      "Secretaries                9\n",
      "Low-skill Laborers         9\n",
      "Waiters/barmen staff       5\n",
      "HR staff                   3\n",
      "IT staff                   2\n",
      "Realty agents              2\n",
      "Name: type_occupation, dtype: int64\n",
      "\n",
      "Counts of unique values including missing values (NaN):\n",
      "NaN                      488\n",
      "Laborers                 268\n",
      "Core staff               174\n",
      "Managers                 136\n",
      "Sales staff              122\n",
      "Drivers                   86\n",
      "High skill tech staff     65\n",
      "Medicine staff            50\n",
      "Accountants               44\n",
      "Security staff            25\n",
      "Cleaning staff            22\n",
      "Cooking staff             21\n",
      "Private service staff     17\n",
      "Low-skill Laborers         9\n",
      "Secretaries                9\n",
      "Waiters/barmen staff       5\n",
      "HR staff                   3\n",
      "IT staff                   2\n",
      "Realty agents              2\n",
      "Name: type_occupation, dtype: int64\n"
     ]
    }
   ],
   "source": [
    "# Count the occurrences of each unique value in the 'type_occupation' column\n",
    "occupation_counts = merged_data['type_occupation'].value_counts()\n",
    "\n",
    "# Print the counts\n",
    "print(\"Counts of unique values in Type_Occupation:\")\n",
    "print(occupation_counts)\n",
    "\n",
    "# Optionally, include missing values in the count\n",
    "occupation_counts_with_na = merged_data['type_occupation'].value_counts(dropna=False)\n",
    "print(\"\\nCounts of unique values including missing values (NaN):\")\n",
    "print(occupation_counts_with_na)"
   ]
  },
  {
   "cell_type": "code",
   "execution_count": 280,
   "id": "af57e01a",
   "metadata": {},
   "outputs": [
    {
     "name": "stdout",
     "output_type": "stream",
     "text": [
      "Chi-Square p-value: 0.0031362182876011747\n"
     ]
    }
   ],
   "source": [
    "from scipy.stats import chi2_contingency\n",
    "\n",
    "# Create a contingency table for 'Type_Occupation' and 'Application_Status'\n",
    "contingency_table = pd.crosstab(merged_data['type_occupation'], merged_data['application_status'])\n",
    "\n",
    "# Perform the Chi-Square test\n",
    "chi2, p, _, _ = chi2_contingency(contingency_table)\n",
    "\n",
    "# Print the p-value\n",
    "print(f\"Chi-Square p-value: {p}\")"
   ]
  },
  {
   "cell_type": "markdown",
   "id": "47f32cfb",
   "metadata": {},
   "source": [
    "A p-value of 0.003 (<0.05) from the chi-square test indicates that there is a statistically significant association between Type_Occupation and the target variable Application_Status. This means Type_Occupation is likely important for predicting whether a credit card application will be approved or rejected.\n",
    "\n"
   ]
  },
  {
   "cell_type": "markdown",
   "id": "9fe96772",
   "metadata": {},
   "source": [
    "So, replace missing values with \"Unknown\" to avoid losing data."
   ]
  },
  {
   "cell_type": "code",
   "execution_count": 281,
   "id": "05ef936d",
   "metadata": {},
   "outputs": [],
   "source": [
    "merged_data['type_occupation'].fillna(\"Unknown\", inplace=True)"
   ]
  },
  {
   "cell_type": "code",
   "execution_count": 282,
   "id": "89cb0637",
   "metadata": {},
   "outputs": [
    {
     "name": "stdout",
     "output_type": "stream",
     "text": [
      "Remaining Missing Data After Handling:\n",
      "gender                0\n",
      "car_owner             0\n",
      "propert_owner         0\n",
      "children              0\n",
      "annual_income         0\n",
      "type_income           0\n",
      "education             0\n",
      "marital_status        0\n",
      "housing_type          0\n",
      "birthday_count        0\n",
      "employed_days         0\n",
      "mobile_phone          0\n",
      "work_phone            0\n",
      "phone                 0\n",
      "email_id              0\n",
      "type_occupation       0\n",
      "family_members        0\n",
      "application_status    0\n",
      "dtype: int64\n"
     ]
    }
   ],
   "source": [
    "# Recheck for missing values\n",
    "print(\"Remaining Missing Data After Handling:\")\n",
    "print(merged_data.isnull().sum())"
   ]
  },
  {
   "cell_type": "markdown",
   "id": "2e5afb7c",
   "metadata": {},
   "source": [
    "# Investigate and Handle Outliers"
   ]
  },
  {
   "cell_type": "markdown",
   "id": "d70a147f",
   "metadata": {},
   "source": [
    "1. Identify Outliers Using Boxplots"
   ]
  },
  {
   "cell_type": "code",
   "execution_count": 283,
   "id": "34cbb51f",
   "metadata": {},
   "outputs": [
    {
     "data": {
      "image/png": "[encoded data removed]",
      "text/plain": [
       "<Figure size 800x400 with 1 Axes>"
      ]
     },
     "metadata": {},
     "output_type": "display_data"
    },
    {
     "data": {
      "image/png": "[encoded data removed]",
      "text/plain": [
       "<Figure size 800x400 with 1 Axes>"
      ]
     },
     "metadata": {},
     "output_type": "display_data"
    },
    {
     "data": {
      "image/png": "[encoded data removed]",
      "text/plain": [
       "<Figure size 800x400 with 1 Axes>"
      ]
     },
     "metadata": {},
     "output_type": "display_data"
    },
    {
     "data": {
      "image/png": "[encoded data removed]",
      "text/plain": [
       "<Figure size 800x400 with 1 Axes>"
      ]
     },
     "metadata": {},
     "output_type": "display_data"
    },
    {
     "data": {
      "image/png": "[encoded data removed]",
      "text/plain": [
       "<Figure size 800x400 with 1 Axes>"
      ]
     },
     "metadata": {},
     "output_type": "display_data"
    }
   ],
   "source": [
    "import matplotlib.pyplot as plt\n",
    "\n",
    "# Columns to check for outliers\n",
    "numerical_columns = ['children', 'annual_income', 'birthday_count', 'employed_days', 'family_members']\n",
    "\n",
    "# Create boxplots for numerical columns\n",
    "for col in numerical_columns:\n",
    "    plt.figure(figsize=(8, 4))\n",
    "    plt.boxplot(merged_data[col].dropna(), vert=False)\n",
    "    plt.title(f\"Boxplot for {col}\")\n",
    "    plt.xlabel(col)\n",
    "    plt.show()"
   ]
  },
  {
   "cell_type": "code",
   "execution_count": 284,
   "id": "a7eb1966",
   "metadata": {},
   "outputs": [
    {
     "name": "stdout",
     "output_type": "stream",
     "text": [
      "Number of rows with outliers: 37\n"
     ]
    }
   ],
   "source": [
    "from scipy.stats import zscore\n",
    "\n",
    "# Compute Z-scores for numerical columns\n",
    "z_scores = merged_data[numerical_columns].apply(zscore)\n",
    "\n",
    "# Identify rows with outliers (absolute Z-score > 3)\n",
    "outliers = (z_scores.abs() > 3).any(axis=1)\n",
    "\n",
    "# Print the count of outliers\n",
    "print(f\"Number of rows with outliers: {outliers.sum()}\")"
   ]
  },
  {
   "cell_type": "markdown",
   "id": "9256239c",
   "metadata": {},
   "source": [
    "2. Capping Outliers"
   ]
  },
  {
   "cell_type": "code",
   "execution_count": 285,
   "id": "2ff066a7",
   "metadata": {},
   "outputs": [],
   "source": [
    "# Cap values for each column at the 5th and 95th percentiles\n",
    "for col in numerical_columns:\n",
    "    lower_bound = merged_data[col].quantile(0.05)\n",
    "    upper_bound = merged_data[col].quantile(0.95)\n",
    "    merged_data[col] = merged_data[col].clip(lower=lower_bound, upper=upper_bound)"
   ]
  },
  {
   "cell_type": "code",
   "execution_count": 286,
   "id": "c9605fce",
   "metadata": {},
   "outputs": [
    {
     "data": {
      "image/png": "[encoded data removed]",
      "text/plain": [
       "<Figure size 800x400 with 1 Axes>"
      ]
     },
     "metadata": {},
     "output_type": "display_data"
    },
    {
     "data": {
      "image/png": "[encoded data removed]",
      "text/plain": [
       "<Figure size 800x400 with 1 Axes>"
      ]
     },
     "metadata": {},
     "output_type": "display_data"
    },
    {
     "data": {
      "image/png": "[encoded data removed]",
      "text/plain": [
       "<Figure size 800x400 with 1 Axes>"
      ]
     },
     "metadata": {},
     "output_type": "display_data"
    },
    {
     "data": {
      "image/png": "[encoded data removed]",
      "text/plain": [
       "<Figure size 800x400 with 1 Axes>"
      ]
     },
     "metadata": {},
     "output_type": "display_data"
    },
    {
     "data": {
      "image/png": "[encoded data removed]",
      "text/plain": [
       "<Figure size 800x400 with 1 Axes>"
      ]
     },
     "metadata": {},
     "output_type": "display_data"
    }
   ],
   "source": [
    "# Replot boxplots after handling outliers\n",
    "for col in numerical_columns:\n",
    "    plt.figure(figsize=(8, 4))\n",
    "    plt.boxplot(merged_data[col].dropna(), vert=False)\n",
    "    plt.title(f\"Boxplot for {col} After Handling Outliers\")\n",
    "    plt.xlabel(col)\n",
    "    plt.show()"
   ]
  },
  {
   "cell_type": "markdown",
   "id": "91a73b76",
   "metadata": {},
   "source": [
    "Even after capping, we see that employed days still has an outlier. Now, let's test the significance of employed days in predicting application status using chi square test."
   ]
  },
  {
   "cell_type": "markdown",
   "id": "e9e1a9ff",
   "metadata": {},
   "source": [
    "To determine if Employed_days is important for predicting Application_Status (the target variable), we can use the Chi-square test for independence. However, the Chi-square test is typically used for categorical data, so we will first need to convert Employed_days into a categorical variable, such as grouping the values into bins (e.g., \"short-term employment\", \"long-term unemployment\", etc.)."
   ]
  },
  {
   "cell_type": "code",
   "execution_count": 287,
   "id": "0c3c8964",
   "metadata": {},
   "outputs": [
    {
     "name": "stdout",
     "output_type": "stream",
     "text": [
      "   employed_days  employed_days_binned\n",
      "0       365243.0  Long-term Employment\n",
      "1         -586.0            Unemployed\n",
      "2         -586.0            Unemployed\n",
      "3         -586.0            Unemployed\n",
      "4         -586.0            Unemployed\n"
     ]
    }
   ],
   "source": [
    "# Define the bins and labels for 'Employed_days'\n",
    "bins = [-float('inf'), -365, 0, 365, float('inf')]  # Negative for unemployed, 0-1 year, 1-3 years, >3 years\n",
    "labels = ['Unemployed', 'Short-term Employment', 'Medium-term Employment', 'Long-term Employment']\n",
    "\n",
    "# Apply binning\n",
    "merged_data['employed_days_binned'] = pd.cut(merged_data['employed_days'], bins=bins, labels=labels)\n",
    "\n",
    "# Check the newly created 'Employed_days_binned' column\n",
    "print(merged_data[['employed_days', 'employed_days_binned']].head())"
   ]
  },
  {
   "cell_type": "code",
   "execution_count": 288,
   "id": "c604d24f",
   "metadata": {},
   "outputs": [
    {
     "name": "stdout",
     "output_type": "stream",
     "text": [
      "Chi-square statistic: 1.42193049384504\n",
      "P-value: 0.49116986837156584\n",
      "Degrees of freedom: 2\n",
      "Expected frequencies:\n",
      "[[1048.37596899  133.62403101]\n",
      " [  93.12984496   11.87015504]\n",
      " [ 231.49418605   29.50581395]]\n"
     ]
    }
   ],
   "source": [
    "from scipy.stats import chi2_contingency\n",
    "\n",
    "# Create a contingency table for the Chi-square test\n",
    "contingency_table = pd.crosstab(merged_data['employed_days_binned'], merged_data['application_status'])\n",
    "\n",
    "# Perform the Chi-square test\n",
    "chi2, p_value, dof, expected = chi2_contingency(contingency_table)\n",
    "\n",
    "# Output the results\n",
    "print(f\"Chi-square statistic: {chi2}\")\n",
    "print(f\"P-value: {p_value}\")\n",
    "print(f\"Degrees of freedom: {dof}\")\n",
    "print(f\"Expected frequencies:\\n{expected}\")\n"
   ]
  },
  {
   "cell_type": "markdown",
   "id": "e5ddce6a",
   "metadata": {},
   "source": [
    "Since the p-value is much greater than 0.05, Employed_days is a significant predictor of Application_Status. So, we can safely drop employed days feature."
   ]
  },
  {
   "cell_type": "code",
   "execution_count": 289,
   "id": "86da507d",
   "metadata": {},
   "outputs": [
    {
     "name": "stdout",
     "output_type": "stream",
     "text": [
      "Columns after dropping 'employed_days':\n",
      "Index(['gender', 'car_owner', 'propert_owner', 'children', 'annual_income',\n",
      "       'type_income', 'education', 'marital_status', 'housing_type',\n",
      "       'birthday_count', 'mobile_phone', 'work_phone', 'phone', 'email_id',\n",
      "       'type_occupation', 'family_members', 'application_status',\n",
      "       'employed_days_binned'],\n",
      "      dtype='object')\n"
     ]
    }
   ],
   "source": [
    "# Drop the 'Employed_days' column\n",
    "merged_data.drop(columns=['employed_days'], inplace=True)\n",
    "\n",
    "# Verify the column has been removed\n",
    "print(\"Columns after dropping 'employed_days':\")\n",
    "print(merged_data.columns)"
   ]
  },
  {
   "cell_type": "code",
   "execution_count": 290,
   "id": "9451fbbe",
   "metadata": {},
   "outputs": [
    {
     "name": "stdout",
     "output_type": "stream",
     "text": [
      "Columns after dropping 'employed_days_binned':\n",
      "Index(['gender', 'car_owner', 'propert_owner', 'children', 'annual_income',\n",
      "       'type_income', 'education', 'marital_status', 'housing_type',\n",
      "       'birthday_count', 'mobile_phone', 'work_phone', 'phone', 'email_id',\n",
      "       'type_occupation', 'family_members', 'application_status'],\n",
      "      dtype='object')\n"
     ]
    }
   ],
   "source": [
    "# Drop the 'Employed_days_binned' column\n",
    "merged_data.drop(columns=['employed_days_binned'], inplace=True)\n",
    "\n",
    "# Verify the column has been removed\n",
    "print(\"Columns after dropping 'employed_days_binned':\")\n",
    "print(merged_data.columns)"
   ]
  },
  {
   "cell_type": "code",
   "execution_count": 291,
   "id": "84003cef",
   "metadata": {},
   "outputs": [
    {
     "data": {
      "image/png": "[encoded data removed]",
      "text/plain": [
       "<Figure size 800x400 with 1 Axes>"
      ]
     },
     "metadata": {},
     "output_type": "display_data"
    },
    {
     "data": {
      "image/png": "[encoded data removed]",
      "text/plain": [
       "<Figure size 800x400 with 1 Axes>"
      ]
     },
     "metadata": {},
     "output_type": "display_data"
    },
    {
     "data": {
      "image/png": "[encoded data removed]",
      "text/plain": [
       "<Figure size 800x400 with 1 Axes>"
      ]
     },
     "metadata": {},
     "output_type": "display_data"
    },
    {
     "data": {
      "image/png": "[encoded data removed]",
      "text/plain": [
       "<Figure size 800x400 with 1 Axes>"
      ]
     },
     "metadata": {},
     "output_type": "display_data"
    }
   ],
   "source": [
    "# Columns to check for outliers\n",
    "numerical_columns_new = ['children', 'annual_income', 'birthday_count', 'family_members']\n",
    "\n",
    "# Replot boxplots after handling outliers\n",
    "for col in numerical_columns_new:\n",
    "    plt.figure(figsize=(8, 4))\n",
    "    plt.boxplot(merged_data[col].dropna(), vert=False)\n",
    "    plt.title(f\"Boxplot for {col} After Handling Outliers\")\n",
    "    plt.xlabel(col)\n",
    "    plt.show()\n"
   ]
  },
  {
   "cell_type": "markdown",
   "id": "06b8a8e3",
   "metadata": {},
   "source": [
    "# Skewness inspection"
   ]
  },
  {
   "cell_type": "code",
   "execution_count": 292,
   "id": "b7be6857",
   "metadata": {},
   "outputs": [
    {
     "data": {
      "image/png": "[encoded data removed]",
      "text/plain": [
       "<Figure size 600x400 with 1 Axes>"
      ]
     },
     "metadata": {},
     "output_type": "display_data"
    },
    {
     "data": {
      "image/png": "[encoded data removed]",
      "text/plain": [
       "<Figure size 600x400 with 1 Axes>"
      ]
     },
     "metadata": {},
     "output_type": "display_data"
    },
    {
     "data": {
      "image/png": "[encoded data removed]",
      "text/plain": [
       "<Figure size 600x400 with 1 Axes>"
      ]
     },
     "metadata": {},
     "output_type": "display_data"
    },
    {
     "data": {
      "image/png": "[encoded data removed]",
      "text/plain": [
       "<Figure size 600x400 with 1 Axes>"
      ]
     },
     "metadata": {},
     "output_type": "display_data"
    }
   ],
   "source": [
    "import matplotlib.pyplot as plt\n",
    "\n",
    "# Plot histograms for numerical columns\n",
    "numerical_columns = ['annual_income', 'children', 'family_members', 'birthday_count']  # Replace with your numerical columns\n",
    "for col in numerical_columns:\n",
    "    plt.figure(figsize=(6, 4))\n",
    "    plt.hist(merged_data[col].dropna(), bins=30, edgecolor='k')\n",
    "    plt.title(f\"Histogram for {col}\")\n",
    "    plt.xlabel(col)\n",
    "    plt.ylabel(\"Frequency\")\n",
    "    plt.show()"
   ]
  },
  {
   "cell_type": "code",
   "execution_count": 293,
   "id": "0c4f089e",
   "metadata": {},
   "outputs": [
    {
     "name": "stdout",
     "output_type": "stream",
     "text": [
      "Skewness for children: 1.422830248935635\n",
      "Skewness for annual_income: 0.7640621439087711\n",
      "Skewness for birthday_count: -0.17486663580618375\n",
      "Skewness for family_members: 0.596523967037833\n"
     ]
    }
   ],
   "source": [
    "from scipy.stats import skew\n",
    "\n",
    "# Calculate skewness for numerical columns\n",
    "for col in numerical_columns_new:\n",
    "    skewness = skew(merged_data[col].dropna())\n",
    "    print(f\"Skewness for {col}: {skewness}\")\n"
   ]
  },
  {
   "cell_type": "markdown",
   "id": "6f92bc4d",
   "metadata": {},
   "source": [
    "1. children: Highly right-skewed (1.42), indicating most clients have few children, with some outliers having many. \n",
    "\n",
    "2. annual_income: Moderately right-skewed (0.76), showing a concentration of lower-income clients; acceptable\n",
    "\n",
    "3. birthday_count: Nearly symmetric (-0.17), requiring no transformation.\n",
    "\n",
    "4. family_members: Moderately right-skewed (0.60), with most clients having small families"
   ]
  },
  {
   "cell_type": "code",
   "execution_count": 294,
   "id": "15c64b08",
   "metadata": {},
   "outputs": [
    {
     "name": "stdout",
     "output_type": "stream",
     "text": [
      "Chi-square statistic: 1.288713919817968\n",
      "P-value: 0.5250000296528037\n",
      "Degrees of freedom: 2\n",
      "Expected frequencies:\n",
      "[[967.66343669 123.33656331]\n",
      " [270.52002584  34.47997416]\n",
      " [134.81653747  17.18346253]]\n"
     ]
    }
   ],
   "source": [
    "from scipy.stats import chi2_contingency\n",
    "\n",
    "# Create a contingency table\n",
    "contingency_table = pd.crosstab(merged_data['children'], merged_data['application_status'])\n",
    "\n",
    "# Perform the Chi-Square test\n",
    "chi2, p_value, dof, expected = chi2_contingency(contingency_table)\n",
    "\n",
    "# Output the results\n",
    "print(f\"Chi-square statistic: {chi2}\")\n",
    "print(f\"P-value: {p_value}\")\n",
    "print(f\"Degrees of freedom: {dof}\")\n",
    "print(f\"Expected frequencies:\\n{expected}\")"
   ]
  },
  {
   "cell_type": "markdown",
   "id": "2993a95a",
   "metadata": {},
   "source": [
    "P-value = 0.525: Since the p-value is greater than 0.05, we fail to reject the null hypothesis. This means that there is no statistically significant relationship between the number of children (children) and the application status (Application_Status). So, we can safely dropt the children column."
   ]
  },
  {
   "cell_type": "code",
   "execution_count": 295,
   "id": "8df9f115",
   "metadata": {},
   "outputs": [
    {
     "name": "stdout",
     "output_type": "stream",
     "text": [
      "Columns after dropping 'children':\n",
      "Index(['gender', 'car_owner', 'propert_owner', 'annual_income', 'type_income',\n",
      "       'education', 'marital_status', 'housing_type', 'birthday_count',\n",
      "       'mobile_phone', 'work_phone', 'phone', 'email_id', 'type_occupation',\n",
      "       'family_members', 'application_status'],\n",
      "      dtype='object')\n"
     ]
    }
   ],
   "source": [
    "# Drop the 'Employed_days' column\n",
    "merged_data.drop(columns=['children'], inplace=True)\n",
    "\n",
    "# Verify the column has been removed\n",
    "print(\"Columns after dropping 'children':\")\n",
    "print(merged_data.columns)"
   ]
  },
  {
   "cell_type": "markdown",
   "id": "7e28567f",
   "metadata": {},
   "source": [
    "# Check for Features with No Variability"
   ]
  },
  {
   "cell_type": "markdown",
   "id": "067409fb",
   "metadata": {},
   "source": [
    "Features with constant or near-constant values across rows are uninformative since they don't differentiate between classes."
   ]
  },
  {
   "cell_type": "code",
   "execution_count": 296,
   "id": "40502b0b",
   "metadata": {},
   "outputs": [
    {
     "name": "stdout",
     "output_type": "stream",
     "text": [
      "Low variance features: Index(['mobile_phone'], dtype='object')\n"
     ]
    }
   ],
   "source": [
    "# Identify features with zero or near-zero variance\n",
    "low_variance_features = merged_data.columns[merged_data.nunique() <= 1]\n",
    "\n",
    "print(\"Low variance features:\", low_variance_features)"
   ]
  },
  {
   "cell_type": "markdown",
   "id": "0c061325",
   "metadata": {},
   "source": [
    "A column like Mobile_phone with all values as 1 is uninformative."
   ]
  },
  {
   "cell_type": "code",
   "execution_count": 297,
   "id": "0e9fa4f8",
   "metadata": {},
   "outputs": [
    {
     "name": "stdout",
     "output_type": "stream",
     "text": [
      "Columns after dropping 'mobile_phone':\n",
      "Index(['gender', 'car_owner', 'propert_owner', 'annual_income', 'type_income',\n",
      "       'education', 'marital_status', 'housing_type', 'birthday_count',\n",
      "       'work_phone', 'phone', 'email_id', 'type_occupation', 'family_members',\n",
      "       'application_status'],\n",
      "      dtype='object')\n"
     ]
    }
   ],
   "source": [
    "# Drop the 'Employed_days' column\n",
    "merged_data.drop(columns=['mobile_phone'], inplace=True)\n",
    "\n",
    "# Verify the column has been removed\n",
    "print(\"Columns after dropping 'mobile_phone':\")\n",
    "print(merged_data.columns)"
   ]
  },
  {
   "cell_type": "markdown",
   "id": "777fba46",
   "metadata": {},
   "source": [
    "# Correlation analysis"
   ]
  },
  {
   "cell_type": "markdown",
   "id": "630473db",
   "metadata": {},
   "source": [
    "Highly correlated features contribute redundant information. Identify features with high correlations (e.g., >0.8) and remove one from each pair."
   ]
  },
  {
   "cell_type": "code",
   "execution_count": 298,
   "id": "478484fd",
   "metadata": {},
   "outputs": [
    {
     "name": "stderr",
     "output_type": "stream",
     "text": [
      "C:\\Temp\\ipykernel_14132\\1738864830.py:5: FutureWarning: The default value of numeric_only in DataFrame.corr is deprecated. In a future version, it will default to False. Select only valid columns or specify the value of numeric_only to silence this warning.\n",
      "  correlation_matrix = merged_data.corr()\n"
     ]
    },
    {
     "data": {
      "image/png": "[encoded data removed]",
      "text/plain": [
       "<Figure size 1000x800 with 2 Axes>"
      ]
     },
     "metadata": {},
     "output_type": "display_data"
    },
    {
     "name": "stdout",
     "output_type": "stream",
     "text": [
      "Highly correlated features: set()\n"
     ]
    }
   ],
   "source": [
    "import seaborn as sns\n",
    "import matplotlib.pyplot as plt\n",
    "\n",
    "# Compute the correlation matrix\n",
    "correlation_matrix = merged_data.corr()\n",
    "\n",
    "# Visualize the correlation matrix\n",
    "plt.figure(figsize=(10, 8))\n",
    "sns.heatmap(correlation_matrix, annot=True, cmap='coolwarm')\n",
    "plt.title(\"Correlation Matrix\")\n",
    "plt.show()\n",
    "\n",
    "# Identify highly correlated pairs\n",
    "threshold = 0.8\n",
    "correlated_features = set()\n",
    "for i in range(len(correlation_matrix.columns)):\n",
    "    for j in range(i):\n",
    "        if abs(correlation_matrix.iloc[i, j]) > threshold:\n",
    "            correlated_features.add(correlation_matrix.columns[i])\n",
    "\n",
    "print(\"Highly correlated features:\", correlated_features)"
   ]
  },
  {
   "cell_type": "markdown",
   "id": "bbd086cc",
   "metadata": {},
   "source": [
    "There are no highly correlated features."
   ]
  },
  {
   "cell_type": "markdown",
   "id": "725d5b6e",
   "metadata": {},
   "source": [
    "# Feature Selection"
   ]
  },
  {
   "cell_type": "code",
   "execution_count": 299,
   "id": "f77d0b97",
   "metadata": {},
   "outputs": [
    {
     "name": "stdout",
     "output_type": "stream",
     "text": [
      "Chi-Square Test Results (P-values) for Categorical Features:\n",
      "Feature: gender, P-value: 0.08664483091132888\n",
      "Feature: car_owner, P-value: 0.6185693269675412\n",
      "Feature: propert_owner, P-value: 0.5351095955412992\n",
      "Feature: type_income, P-value: 0.003505783928580882\n",
      "Feature: education, P-value: 0.056159329722052835\n",
      "Feature: marital_status, P-value: 0.03246652787478729\n",
      "Feature: housing_type, P-value: 3.570429275146809e-05\n",
      "Feature: work_phone, P-value: 0.8584576855494042\n",
      "Feature: phone, P-value: 1.0\n",
      "Feature: email_id, P-value: 0.7115453763877984\n",
      "Feature: type_occupation, P-value: 0.0055176142437235775\n"
     ]
    }
   ],
   "source": [
    "from scipy.stats import chi2_contingency\n",
    "\n",
    "# List of categorical features in your dataset\n",
    "categorical_features = ['gender', 'car_owner', 'propert_owner', 'type_income', \n",
    "                        'education', 'marital_status', 'housing_type', \n",
    "                        'work_phone', 'phone', 'email_id', 'type_occupation']\n",
    "\n",
    "# Dictionary to store p-values for each feature\n",
    "chi_square_results = {}\n",
    "\n",
    "# Perform Chi-Square test for each categorical feature\n",
    "for feature in categorical_features:\n",
    "    contingency_table = pd.crosstab(merged_data[feature], merged_data['application_status'])\n",
    "    chi2, p_value, dof, expected = chi2_contingency(contingency_table)\n",
    "    \n",
    "    # Store the p-value in the dictionary\n",
    "    chi_square_results[feature] = p_value\n",
    "\n",
    "# Display the p-values for all features\n",
    "print(\"Chi-Square Test Results (P-values) for Categorical Features:\")\n",
    "for feature, p_value in chi_square_results.items():\n",
    "    print(f\"Feature: {feature}, P-value: {p_value}\")\n"
   ]
  },
  {
   "cell_type": "markdown",
   "id": "66902657",
   "metadata": {},
   "source": [
    "Important Features:\n",
    "\n",
    "1. type_income (p-value = 0.0035)\n",
    "2. marital_status (p-value = 0.0325)\n",
    "3. housing_type (p-value = 3.57e-05)\n",
    "4. type_occupation (p-value = 0.0055)\n",
    "\n",
    "These features are statistically significant and should be considered important for predicting the Application_Status.\n",
    "\n",
    "Not Significant Features:\n",
    "\n",
    "car_owner, propert_owner, work_phone, phone, email_id, and gender (p-value > 0.5) are not important predictors. Let's drop them."
   ]
  },
  {
   "cell_type": "code",
   "execution_count": 300,
   "id": "367da159",
   "metadata": {},
   "outputs": [
    {
     "name": "stdout",
     "output_type": "stream",
     "text": [
      "Columns after dropping uninformative features:\n",
      "Index(['annual_income', 'type_income', 'education', 'marital_status',\n",
      "       'housing_type', 'birthday_count', 'type_occupation', 'family_members',\n",
      "       'application_status'],\n",
      "      dtype='object')\n"
     ]
    }
   ],
   "source": [
    "# Drop the specified features from the dataset\n",
    "features_to_drop = ['car_owner', 'propert_owner', 'work_phone', 'phone', 'email_id', 'gender']\n",
    "merged_data.drop(columns=features_to_drop, inplace=True)\n",
    "\n",
    "# Verify the features have been dropped\n",
    "print(\"Columns after dropping uninformative features:\")\n",
    "print(merged_data.columns)"
   ]
  },
  {
   "cell_type": "code",
   "execution_count": 301,
   "id": "13d04d3f",
   "metadata": {},
   "outputs": [
    {
     "name": "stdout",
     "output_type": "stream",
     "text": [
      "Mutual Information Scores for Numerical Features:\n",
      "birthday_count    0.047345\n",
      "family_members    0.005599\n",
      "annual_income     0.000000\n",
      "dtype: float64\n"
     ]
    }
   ],
   "source": [
    "from sklearn.feature_selection import mutual_info_classif\n",
    "\n",
    "# Separate features and target\n",
    "X = merged_data.drop(columns=['application_status'])  # Exclude target columns\n",
    "y = merged_data['application_status']\n",
    "\n",
    "# Compute mutual information\n",
    "mi_scores = mutual_info_classif(X.select_dtypes(include=['float64', 'int64']), y)\n",
    "mi_scores = pd.Series(mi_scores, index=X.select_dtypes(include=['float64', 'int64']).columns)\n",
    "\n",
    "# Display the results\n",
    "print(\"Mutual Information Scores for Numerical Features:\")\n",
    "print(mi_scores.sort_values(ascending=False))"
   ]
  },
  {
   "cell_type": "markdown",
   "id": "c8547726",
   "metadata": {},
   "source": [
    "birthday_count (MI = 0.0527):\n",
    "\n",
    "This feature shows some dependency with the target variable. Although the score is low, it may still have some predictive value.\n",
    "\n",
    "annual_income (MI = 0.0000):\n",
    "\n",
    "A score of 0 indicates no dependency between annual_income and the target variable. This feature is likely uninformative and can be dropped.\n",
    "\n",
    "family_members (MI = 0):\n",
    "\n",
    "A score of 0 indicates no dependency between family_members and the target variable. This feature is likely uninformative and can be dropped."
   ]
  },
  {
   "cell_type": "code",
   "execution_count": 302,
   "id": "36597c44",
   "metadata": {},
   "outputs": [
    {
     "name": "stdout",
     "output_type": "stream",
     "text": [
      "Columns after dropping uninformative numerical features:\n",
      "Index(['type_income', 'education', 'marital_status', 'housing_type',\n",
      "       'birthday_count', 'type_occupation', 'application_status'],\n",
      "      dtype='object')\n"
     ]
    }
   ],
   "source": [
    "# Drop uninformative numerical features\n",
    "numerical_features_to_drop = ['annual_income', 'family_members']\n",
    "merged_data.drop(columns=numerical_features_to_drop, inplace=True)\n",
    "\n",
    "# Verify the features have been dropped\n",
    "print(\"Columns after dropping uninformative numerical features:\")\n",
    "print(merged_data.columns)"
   ]
  },
  {
   "cell_type": "markdown",
   "id": "cd427b98",
   "metadata": {},
   "source": [
    "#### Note: Mutual Information Score can be used for feature selection of categorical features if encoding is performed."
   ]
  },
  {
   "cell_type": "markdown",
   "id": "117a7331",
   "metadata": {},
   "source": [
    "# Feature Engineering"
   ]
  },
  {
   "cell_type": "code",
   "execution_count": 303,
   "id": "3095d4f2",
   "metadata": {},
   "outputs": [
    {
     "name": "stdout",
     "output_type": "stream",
     "text": [
      "Categorical Features: ['type_income', 'education', 'marital_status', 'housing_type', 'type_occupation']\n",
      "Numerical Features: ['birthday_count', 'application_status']\n"
     ]
    }
   ],
   "source": [
    "# Import necessary library\n",
    "import pandas as pd\n",
    "\n",
    "# Assuming merged_data is your dataset\n",
    "# Identify categorical features\n",
    "categorical_features = merged_data.select_dtypes(include=['object', 'category']).columns.tolist()\n",
    "\n",
    "# Identify numerical features\n",
    "numerical_features = merged_data.select_dtypes(include=['int64', 'float64']).columns.tolist()\n",
    "\n",
    "# Display the results\n",
    "print(\"Categorical Features:\", categorical_features)\n",
    "print(\"Numerical Features:\", numerical_features)"
   ]
  },
  {
   "cell_type": "code",
   "execution_count": 304,
   "id": "bc3d47a1",
   "metadata": {},
   "outputs": [
    {
     "name": "stdout",
     "output_type": "stream",
     "text": [
      "<class 'pandas.core.frame.DataFrame'>\n",
      "Int64Index: 1548 entries, 0 to 1547\n",
      "Data columns (total 7 columns):\n",
      " #   Column              Non-Null Count  Dtype  \n",
      "---  ------              --------------  -----  \n",
      " 0   type_income         1548 non-null   object \n",
      " 1   education           1548 non-null   object \n",
      " 2   marital_status      1548 non-null   object \n",
      " 3   housing_type        1548 non-null   object \n",
      " 4   birthday_count      1548 non-null   float64\n",
      " 5   type_occupation     1548 non-null   object \n",
      " 6   application_status  1548 non-null   int64  \n",
      "dtypes: float64(1), int64(1), object(5)\n",
      "memory usage: 96.8+ KB\n"
     ]
    }
   ],
   "source": [
    "merged_data.info()"
   ]
  },
  {
   "cell_type": "markdown",
   "id": "4cb9fe1b",
   "metadata": {},
   "source": [
    "Actually, just to recall, application_status is ultimately a categorical feature telling approved or rejected which has been encoded to 0 or 1."
   ]
  },
  {
   "cell_type": "markdown",
   "id": "0145c3a3",
   "metadata": {},
   "source": [
    "# Handling Categorical Features"
   ]
  },
  {
   "cell_type": "code",
   "execution_count": 305,
   "id": "1c921600",
   "metadata": {},
   "outputs": [
    {
     "name": "stdout",
     "output_type": "stream",
     "text": [
      "Feature: type_income\n",
      "Unique Values: ['Pensioner' 'Commercial associate' 'Working' 'State servant']\n",
      "Number of Unique Values: 4\n",
      "--------------------------------------------------\n",
      "Feature: education\n",
      "Unique Values: ['Higher education' 'Secondary / secondary special' 'Lower secondary'\n",
      " 'Incomplete higher' 'Academic degree']\n",
      "Number of Unique Values: 5\n",
      "--------------------------------------------------\n",
      "Feature: marital_status\n",
      "Unique Values: ['Married' 'Single / not married' 'Civil marriage' 'Separated' 'Widow']\n",
      "Number of Unique Values: 5\n",
      "--------------------------------------------------\n",
      "Feature: housing_type\n",
      "Unique Values: ['House / apartment' 'With parents' 'Rented apartment'\n",
      " 'Municipal apartment' 'Co-op apartment' 'Office apartment']\n",
      "Number of Unique Values: 6\n",
      "--------------------------------------------------\n",
      "Feature: type_occupation\n",
      "Unique Values: ['Unknown' 'Core staff' 'Cooking staff' 'Laborers' 'Sales staff'\n",
      " 'Accountants' 'High skill tech staff' 'Managers' 'Cleaning staff'\n",
      " 'Drivers' 'Low-skill Laborers' 'IT staff' 'Waiters/barmen staff'\n",
      " 'Security staff' 'Medicine staff' 'Private service staff' 'HR staff'\n",
      " 'Secretaries' 'Realty agents']\n",
      "Number of Unique Values: 19\n",
      "--------------------------------------------------\n"
     ]
    }
   ],
   "source": [
    "# Identify categorical features\n",
    "categorical_features = merged_data.select_dtypes(include=['object', 'category']).columns.tolist()\n",
    "\n",
    "# Display unique values for each categorical feature\n",
    "for feature in categorical_features:\n",
    "    unique_values = merged_data[feature].unique()\n",
    "    print(f\"Feature: {feature}\")\n",
    "    print(f\"Unique Values: {unique_values}\")\n",
    "    print(f\"Number of Unique Values: {len(unique_values)}\")\n",
    "    print(\"-\" * 50)"
   ]
  },
  {
   "cell_type": "markdown",
   "id": "3b5b706a",
   "metadata": {},
   "source": [
    "We can see that 'type_occupation' has a value called unknown. It is important to handle this 'unknown' value for the following reasons:\n",
    "1. Preserving Data Integrity: The 'Unknown' values represent missing or unrecorded information. Instead of treating them as missing or imputing them with a random value, we treat them as a distinct category to preserve the original meaning of the data. This way, the model can understand that some occupations are simply unknown and not fill the gap with an assumption that could bias predictions.\n",
    "\n",
    "2. Avoiding Bias: If we had used imputation techniques like replacing 'Unknown' with the most frequent category, the model could misinterpret these values, leading to biased results. Treating 'Unknown' as a separate category ensures the model is not misled by arbitrary imputation but instead recognizes that the missing data has its own significance."
   ]
  },
  {
   "cell_type": "code",
   "execution_count": 306,
   "id": "0d03a009",
   "metadata": {},
   "outputs": [
    {
     "name": "stdout",
     "output_type": "stream",
     "text": [
      "Unique values in 'type_occupation' after replacement:\n",
      "['Unknown_occupation' 'Core staff' 'Cooking staff' 'Laborers'\n",
      " 'Sales staff' 'Accountants' 'High skill tech staff' 'Managers'\n",
      " 'Cleaning staff' 'Drivers' 'Low-skill Laborers' 'IT staff'\n",
      " 'Waiters/barmen staff' 'Security staff' 'Medicine staff'\n",
      " 'Private service staff' 'HR staff' 'Secretaries' 'Realty agents']\n"
     ]
    }
   ],
   "source": [
    "# Replace 'Unknown' with a new category 'Unknown_occupation'\n",
    "X['type_occupation'] = X['type_occupation'].replace('Unknown', 'Unknown_occupation')\n",
    "\n",
    "# Verify the change\n",
    "print(\"Unique values in 'type_occupation' after replacement:\")\n",
    "print(X['type_occupation'].unique())"
   ]
  },
  {
   "cell_type": "markdown",
   "id": "afec1807",
   "metadata": {},
   "source": [
    "Why Handle 'Unknown' Before Encoding?\n",
    "\n",
    "Preserving Meaning: By replacing 'Unknown' with a new category before encoding, we ensure that One-Hot Encoding creates a distinct binary feature for 'Unknown_occupation'. This allows the model to correctly interpret it as a unique category instead of a missing value or error during encoding.\n",
    "\n",
    "Correct Encoding: If 'Unknown' was handled after encoding, the model would treat it as a missing or erroneous value during training. This could lead to incorrect encoding or loss of important data. By addressing it upfront, we maintain the integrity of the categorical feature and avoid creating encoding errors."
   ]
  },
  {
   "cell_type": "markdown",
   "id": "14969b3c",
   "metadata": {},
   "source": [
    "## Encoding"
   ]
  },
  {
   "cell_type": "markdown",
   "id": "d99992da",
   "metadata": {},
   "source": [
    "For encoding the categorical features (type_income, education, marital_status, housing_type), the choice of encoding method depends on the nature of the data:\n",
    "\n",
    "Nominal Features: Categories have no inherent order (e.g., type_income, housing_type, marital_status).\n",
    "Use One-Hot Encoding or Label Encoding.\n",
    "\n",
    "Ordinal Features: Categories have a meaningful order (e.g., education from Lower secondary to Academic degree).\n",
    "Use Ordinal Encoding or assign custom numeric ranks."
   ]
  },
  {
   "cell_type": "markdown",
   "id": "f60e8788",
   "metadata": {},
   "source": [
    "# Ordinal Encoding"
   ]
  },
  {
   "cell_type": "code",
   "execution_count": 307,
   "id": "d37f93aa",
   "metadata": {},
   "outputs": [],
   "source": [
    "# Map categories to ordinal values\n",
    "education_order = {\n",
    "    'Lower secondary': 1,\n",
    "    'Secondary / secondary special': 2,\n",
    "    'Incomplete higher': 3,\n",
    "    'Higher education': 4,\n",
    "    'Academic degree': 5\n",
    "}\n",
    "merged_data['education_encoded'] = merged_data['education'].map(education_order)\n",
    "\n",
    "# Drop the original column\n",
    "merged_data.drop(columns=['education'], inplace=True)"
   ]
  },
  {
   "cell_type": "markdown",
   "id": "809b575f",
   "metadata": {},
   "source": [
    "## One-Hot Encoding "
   ]
  },
  {
   "cell_type": "code",
   "execution_count": 308,
   "id": "e8ee4782",
   "metadata": {},
   "outputs": [
    {
     "name": "stdout",
     "output_type": "stream",
     "text": [
      "Columns after One-Hot Encoding:\n",
      "Index(['birthday_count', 'application_status', 'education_encoded',\n",
      "       'type_income_Pensioner', 'type_income_State servant',\n",
      "       'type_income_Working', 'marital_status_Married',\n",
      "       'marital_status_Separated', 'marital_status_Single / not married',\n",
      "       'marital_status_Widow', 'housing_type_House / apartment',\n",
      "       'housing_type_Municipal apartment', 'housing_type_Office apartment',\n",
      "       'housing_type_Rented apartment', 'housing_type_With parents',\n",
      "       'type_occupation_Cleaning staff', 'type_occupation_Cooking staff',\n",
      "       'type_occupation_Core staff', 'type_occupation_Drivers',\n",
      "       'type_occupation_HR staff', 'type_occupation_High skill tech staff',\n",
      "       'type_occupation_IT staff', 'type_occupation_Laborers',\n",
      "       'type_occupation_Low-skill Laborers', 'type_occupation_Managers',\n",
      "       'type_occupation_Medicine staff',\n",
      "       'type_occupation_Private service staff',\n",
      "       'type_occupation_Realty agents', 'type_occupation_Sales staff',\n",
      "       'type_occupation_Secretaries', 'type_occupation_Security staff',\n",
      "       'type_occupation_Unknown', 'type_occupation_Waiters/barmen staff'],\n",
      "      dtype='object')\n"
     ]
    }
   ],
   "source": [
    "# List of features to be One-Hot Encoded\n",
    "features_to_encode = ['type_income', 'marital_status', 'housing_type','type_occupation']\n",
    "\n",
    "# Perform One-Hot Encoding\n",
    "encoded_features = pd.get_dummies(merged_data[features_to_encode], drop_first=True)\n",
    "\n",
    "# Add the encoded features to the dataset\n",
    "merged_data = pd.concat([merged_data, encoded_features], axis=1)\n",
    "\n",
    "# Drop the original columns\n",
    "merged_data.drop(columns=features_to_encode, inplace=True)\n",
    "\n",
    "# Verify the changes\n",
    "print(\"Columns after One-Hot Encoding:\")\n",
    "print(merged_data.columns)\n"
   ]
  },
  {
   "cell_type": "markdown",
   "id": "ffc0eaf9",
   "metadata": {},
   "source": [
    "#### Why choose one-hot encoding?"
   ]
  },
  {
   "cell_type": "markdown",
   "id": "41268e10",
   "metadata": {},
   "source": [
    "Low Cardinality:\n",
    "\n",
    "The features you’re encoding (type_income, marital_status, and housing_type) have a limited number of unique categories:\n",
    "1. type_income: 4 categories\n",
    "2. marital_status: 5 categories\n",
    "3. housing_type: 6 categories\n",
    "\n",
    "This results in 4 + 5 + 6 - 3 = 12 new columns (after dropping the first category for each feature). With 1542 rows, this is manageable.\n",
    "\n",
    "No Natural Ordering:\n",
    "\n",
    "Since the features are nominal (categories have no inherent order), One-Hot Encoding is an appropriate choice. Other encoding methods like Label Encoding might introduce unintended ordinal relationships.\n",
    "\n",
    "Non-Sensitive to Dimensionality:\n",
    "\n",
    "Models like tree-based algorithms (Random Forest, XGBoost) handle high-dimensional data efficiently, so the increase in the number of features won’t negatively impact these models."
   ]
  },
  {
   "cell_type": "markdown",
   "id": "3b2d2b17",
   "metadata": {},
   "source": [
    "# Handling Numerical Features"
   ]
  },
  {
   "cell_type": "code",
   "execution_count": 309,
   "id": "d432d50e",
   "metadata": {},
   "outputs": [
    {
     "data": {
      "text/plain": [
       "0      -18772.0\n",
       "1      -13557.0\n",
       "2      -15661.5\n",
       "3      -13557.0\n",
       "4      -13557.0\n",
       "         ...   \n",
       "1543   -11957.0\n",
       "1544   -10229.0\n",
       "1545   -13174.0\n",
       "1546   -15292.0\n",
       "1547   -16601.0\n",
       "Name: birthday_count, Length: 1548, dtype: float64"
      ]
     },
     "execution_count": 309,
     "metadata": {},
     "output_type": "execute_result"
    }
   ],
   "source": [
    "merged_data['birthday_count']"
   ]
  },
  {
   "cell_type": "markdown",
   "id": "904a3fd4",
   "metadata": {},
   "source": [
    "The current negative values make it difficult to interpret or use directly. Transform it into a more interpretable feature like age."
   ]
  },
  {
   "cell_type": "code",
   "execution_count": 310,
   "id": "82fc9d89",
   "metadata": {},
   "outputs": [
    {
     "name": "stdout",
     "output_type": "stream",
     "text": [
      "count    1548.000000\n",
      "mean       43.441214\n",
      "std        11.176426\n",
      "min        27.000000\n",
      "25%        34.000000\n",
      "50%        42.000000\n",
      "75%        53.000000\n",
      "max        63.000000\n",
      "Name: age, dtype: float64\n"
     ]
    }
   ],
   "source": [
    "# Convert birthday_count to age (in years)\n",
    "merged_data['age'] = (-merged_data['birthday_count']) // 365\n",
    "\n",
    "# Drop the original column if no longer needed\n",
    "merged_data.drop(columns=['birthday_count'], inplace=True)\n",
    "\n",
    "# Inspect the new age feature\n",
    "print(merged_data['age'].describe())"
   ]
  },
  {
   "cell_type": "markdown",
   "id": "f8d955db",
   "metadata": {},
   "source": [
    "The age feature appears reasonable, with no unrealistic values (e.g., extreme outliers like 150+ years).\n",
    "The dataset contains a good range of ages, which might be useful for predicting the target variable (application_status)."
   ]
  },
  {
   "cell_type": "code",
   "execution_count": 311,
   "id": "63375447",
   "metadata": {},
   "outputs": [
    {
     "data": {
      "image/png": "[encoded data removed]",
      "text/plain": [
       "<Figure size 640x480 with 1 Axes>"
      ]
     },
     "metadata": {},
     "output_type": "display_data"
    }
   ],
   "source": [
    "import seaborn as sns\n",
    "sns.histplot(merged_data['age'], bins=20, kde=True)\n",
    "plt.title('Age Distribution')\n",
    "plt.xlabel('Age')\n",
    "plt.ylabel('Frequency')\n",
    "plt.show()"
   ]
  },
  {
   "cell_type": "code",
   "execution_count": 312,
   "id": "0e68a998",
   "metadata": {},
   "outputs": [
    {
     "name": "stdout",
     "output_type": "stream",
     "text": [
      "Skewness: 0.1824974454560268\n"
     ]
    }
   ],
   "source": [
    "from scipy.stats import skew\n",
    "\n",
    "# Calculate skewness\n",
    "age_skewness = skew(merged_data['age'])\n",
    "print(\"Skewness:\", age_skewness)"
   ]
  },
  {
   "cell_type": "markdown",
   "id": "55f1c3d0",
   "metadata": {},
   "source": [
    "The skewness value of 0.182 indicates that the distribution is slightly positively skewed. Nothing additional needs to be done."
   ]
  },
  {
   "cell_type": "markdown",
   "id": "6d649c86",
   "metadata": {},
   "source": [
    "## Feature Scaling"
   ]
  },
  {
   "cell_type": "markdown",
   "id": "8f972cb1",
   "metadata": {},
   "source": [
    "Scaling the age feature ensures it doesn't dominate other features in models sensitive to feature magnitude (e.g., Logistic Regression, k-NN). There are many techniques for feature scaling. I am using min-max scaling (also known as normalization)."
   ]
  },
  {
   "cell_type": "code",
   "execution_count": 313,
   "id": "b6f2c42f",
   "metadata": {},
   "outputs": [],
   "source": [
    "from sklearn.preprocessing import MinMaxScaler\n",
    "\n",
    "scaler = MinMaxScaler()\n",
    "merged_data['age_normalized'] = scaler.fit_transform(merged_data[['age']])"
   ]
  },
  {
   "cell_type": "markdown",
   "id": "72da05d7",
   "metadata": {},
   "source": [
    "# Checking for Target/Response variable Imbalance"
   ]
  },
  {
   "cell_type": "code",
   "execution_count": 314,
   "id": "09abab95",
   "metadata": {},
   "outputs": [
    {
     "name": "stdout",
     "output_type": "stream",
     "text": [
      "0    1373\n",
      "1     175\n",
      "Name: application_status, dtype: int64\n",
      "0    88.69509\n",
      "1    11.30491\n",
      "Name: application_status, dtype: float64\n"
     ]
    }
   ],
   "source": [
    "# Check the distribution of the target variable (Application_Status)\n",
    "target_distribution = merged_data['application_status'].value_counts()\n",
    "print(target_distribution)\n",
    "\n",
    "# Calculate the percentage distribution\n",
    "target_percentage = merged_data['application_status'].value_counts(normalize=True) * 100\n",
    "print(target_percentage)"
   ]
  },
  {
   "cell_type": "code",
   "execution_count": 315,
   "id": "c205d615",
   "metadata": {},
   "outputs": [
    {
     "data": {
      "image/png": "[encoded data removed]",
      "text/plain": [
       "<Figure size 600x1000 with 1 Axes>"
      ]
     },
     "metadata": {},
     "output_type": "display_data"
    }
   ],
   "source": [
    "import seaborn as sns\n",
    "import matplotlib.pyplot as plt\n",
    "\n",
    "# Plot the distribution of the target variable with labels\n",
    "plt.figure(figsize=(6, 10))\n",
    "ax = sns.countplot(x='application_status', data=merged_data)\n",
    "\n",
    "# Add labels on top of the bars\n",
    "for p in ax.patches:\n",
    "    ax.annotate(f'{p.get_height()}', \n",
    "                (p.get_x() + p.get_width() / 2., p.get_height()), \n",
    "                ha='center', va='center', \n",
    "                fontsize=12, color='black', \n",
    "                xytext=(0, 10), textcoords='offset points')\n",
    "\n",
    "plt.title(\"Distribution of Application Status\")\n",
    "plt.xlabel('Application Status')\n",
    "plt.ylabel('Count')\n",
    "plt.show()"
   ]
  },
  {
   "cell_type": "markdown",
   "id": "2bf51e63",
   "metadata": {},
   "source": [
    "target variable Application_Status is significantly imbalanced, with approximately:\n",
    "\n",
    "88.7% of applications approved (0).\n",
    "11.3% of applications rejected (1)."
   ]
  },
  {
   "cell_type": "markdown",
   "id": "02da375c",
   "metadata": {},
   "source": [
    "# Data Splitting"
   ]
  },
  {
   "cell_type": "markdown",
   "id": "c57942b9",
   "metadata": {},
   "source": [
    "1. Create Initial Train/Test Split\n",
    "\n",
    "Split the data into a training+validation set and a final test set (e.g., 80% training+validation, 20% final test set).\n",
    "The final test set remains untouched until the final evaluation.\n",
    "\n",
    "2. Further Split Training+Validation\n",
    "\n",
    "Split the training+validation set into separate training and validation subsets."
   ]
  },
  {
   "cell_type": "code",
   "execution_count": 316,
   "id": "7a449db4",
   "metadata": {},
   "outputs": [
    {
     "name": "stdout",
     "output_type": "stream",
     "text": [
      "Training set size: 1100 rows\n",
      "Validation set size: 138 rows\n",
      "Test set size: 310 rows\n"
     ]
    }
   ],
   "source": [
    "from sklearn.model_selection import train_test_split\n",
    "\n",
    "# Initial split: Training+Validation (80%) and Test (20%)\n",
    "X = merged_data.drop(columns=['application_status'])\n",
    "y = merged_data['application_status']\n",
    "\n",
    "X_train_val, X_test, y_train_val, y_test = train_test_split(X, y, test_size=0.2, random_state=42, stratify=y)\n",
    "\n",
    "# Further split Training+Validation into Training (90% of 80%) and Validation (10% of 80%)\n",
    "X_train, X_val, y_train, y_val = train_test_split(X_train_val, y_train_val, test_size=0.111, random_state=42, stratify=y_train_val)\n",
    "\n",
    "# Verify the splits\n",
    "print(f\"Training set size: {X_train.shape[0]} rows\")\n",
    "print(f\"Validation set size: {X_val.shape[0]} rows\")\n",
    "print(f\"Test set size: {X_test.shape[0]} rows\")"
   ]
  },
  {
   "cell_type": "markdown",
   "id": "c8716355",
   "metadata": {},
   "source": [
    "# Assessing multiple algorithms"
   ]
  },
  {
   "cell_type": "code",
   "execution_count": 317,
   "id": "486fe806",
   "metadata": {},
   "outputs": [],
   "source": [
    "from sklearn.linear_model import LogisticRegression\n",
    "from sklearn.svm import SVC\n",
    "from sklearn.ensemble import RandomForestClassifier, GradientBoostingClassifier\n",
    "from sklearn.tree import DecisionTreeClassifier\n",
    "from sklearn.neighbors import KNeighborsClassifier\n",
    "from sklearn.metrics import accuracy_score, precision_score, recall_score, f1_score, roc_auc_score\n",
    "from sklearn.model_selection import GridSearchCV\n",
    "import pandas as pd"
   ]
  },
  {
   "cell_type": "code",
   "execution_count": 318,
   "id": "e62fab4d",
   "metadata": {},
   "outputs": [],
   "source": [
    "# Models and parameter grids\n",
    "models_and_params = {\n",
    "    \"Logistic Regression\": (LogisticRegression(random_state=42, max_iter=1000), {\n",
    "        'C': [0.1, 1, 10]\n",
    "    }),\n",
    "    \"Support Vector Classifier\": (SVC(random_state=42, probability=True), {\n",
    "        'C': [0.1, 1, 10],\n",
    "        'kernel': ['linear', 'rbf']\n",
    "    }),\n",
    "    \"Random Forest\": (RandomForestClassifier(random_state=42), {\n",
    "        'n_estimators': [100, 200, 300],\n",
    "        'max_depth': [None, 10, 20]\n",
    "    }),\n",
    "    \"Decision Tree\": (DecisionTreeClassifier(random_state=42), {\n",
    "        'max_depth': [None, 10, 20],\n",
    "        'min_samples_split': [2, 5, 10]\n",
    "    }),\n",
    "    \"K-Nearest Neighbors\": (KNeighborsClassifier(), {\n",
    "        'n_neighbors': [3, 5, 7],\n",
    "        'weights': ['uniform', 'distance']\n",
    "    }),\n",
    "    \"Gradient Boosting\": (GradientBoostingClassifier(random_state=42), {\n",
    "        'n_estimators': [100, 200, 300],\n",
    "        'learning_rate': [0.01, 0.1, 0.2],\n",
    "        'max_depth': [3, 5, 7]\n",
    "    })\n",
    "}\n"
   ]
  },
  {
   "cell_type": "code",
   "execution_count": 319,
   "id": "9589fe6d",
   "metadata": {},
   "outputs": [
    {
     "name": "stdout",
     "output_type": "stream",
     "text": [
      "Training Logistic Regression...\n",
      "Best Parameters for Logistic Regression: {'C': 10}\n",
      "Training Support Vector Classifier...\n",
      "Best Parameters for Support Vector Classifier: {'C': 10, 'kernel': 'linear'}\n",
      "Training Random Forest...\n",
      "Best Parameters for Random Forest: {'max_depth': None, 'n_estimators': 200}\n",
      "Training Decision Tree...\n",
      "Best Parameters for Decision Tree: {'max_depth': 20, 'min_samples_split': 2}\n",
      "Training K-Nearest Neighbors...\n",
      "Best Parameters for K-Nearest Neighbors: {'n_neighbors': 3, 'weights': 'distance'}\n",
      "Training Gradient Boosting...\n",
      "Best Parameters for Gradient Boosting: {'learning_rate': 0.2, 'max_depth': 7, 'n_estimators': 300}\n"
     ]
    }
   ],
   "source": [
    "# Dictionary to store results\n",
    "results = {}\n",
    "metrics = ['Accuracy', 'Precision', 'Recall', 'F1-Score', 'ROC-AUC']\n",
    "\n",
    "for model_name, (model, param_grid) in models_and_params.items():\n",
    "    print(f\"Training {model_name}...\")\n",
    "    \n",
    "    # Perform GridSearchCV\n",
    "    grid_search = GridSearchCV(model, param_grid, cv=5, scoring='f1', n_jobs=-1)\n",
    "    grid_search.fit(X_train, y_train)\n",
    "    \n",
    "    # Get the best model\n",
    "    best_model = grid_search.best_estimator_\n",
    "    \n",
    "    # Predictions on validation set\n",
    "    y_val_pred = best_model.predict(X_val)\n",
    "    y_val_proba = best_model.predict_proba(X_val)[:, 1]\n",
    "    \n",
    "    # Evaluate metrics\n",
    "    results[model_name] = {\n",
    "        'Accuracy': accuracy_score(y_val, y_val_pred),\n",
    "        'Precision': precision_score(y_val, y_val_pred, pos_label=0),  # Positive class = 0\n",
    "        'Recall': recall_score(y_val, y_val_pred, pos_label=0),\n",
    "        'F1-Score': f1_score(y_val, y_val_pred, pos_label=0),\n",
    "        'ROC-AUC': roc_auc_score(y_val, y_val_proba)\n",
    "    }\n",
    "    \n",
    "    # Print the best parameters\n",
    "    print(f\"Best Parameters for {model_name}: {grid_search.best_params_}\")\n"
   ]
  },
  {
   "cell_type": "code",
   "execution_count": 320,
   "id": "bd6b81a1",
   "metadata": {},
   "outputs": [
    {
     "name": "stdout",
     "output_type": "stream",
     "text": [
      "\n",
      "Comparison Table:\n",
      "                           Accuracy  Precision    Recall  F1-Score   ROC-AUC\n",
      "Logistic Regression        0.884058   0.884058  1.000000  0.938462  0.579150\n",
      "Support Vector Classifier  0.884058   0.884058  1.000000  0.938462  0.565318\n",
      "Random Forest              0.927536   0.937500  0.983607  0.960000  0.844775\n",
      "Decision Tree              0.833333   0.930435  0.877049  0.902954  0.741547\n",
      "K-Nearest Neighbors        0.927536   0.937500  0.983607  0.960000  0.797643\n",
      "Gradient Boosting          0.913043   0.936508  0.967213  0.951613  0.863473\n"
     ]
    }
   ],
   "source": [
    "# Convert results to DataFrame\n",
    "results_df = pd.DataFrame(results).T  # Transpose to align metrics with models\n",
    "\n",
    "# Display the table\n",
    "print(\"\\nComparison Table:\")\n",
    "print(results_df)"
   ]
  },
  {
   "cell_type": "markdown",
   "id": "cb4c9b24",
   "metadata": {},
   "source": [
    "Based on this table, random forest model is the best model"
   ]
  },
  {
   "cell_type": "code",
   "execution_count": 321,
   "id": "a82e11a0",
   "metadata": {},
   "outputs": [
    {
     "data": {
      "text/html": [
       "<style>#sk-container-id-3 {\n",
       "  /* Definition of color scheme common for light and dark mode */\n",
       "  --sklearn-color-text: black;\n",
       "  --sklearn-color-line: gray;\n",
       "  /* Definition of color scheme for unfitted estimators */\n",
       "  --sklearn-color-unfitted-level-0: #fff5e6;\n",
       "  --sklearn-color-unfitted-level-1: #f6e4d2;\n",
       "  --sklearn-color-unfitted-level-2: #ffe0b3;\n",
       "  --sklearn-color-unfitted-level-3: chocolate;\n",
       "  /* Definition of color scheme for fitted estimators */\n",
       "  --sklearn-color-fitted-level-0: #f0f8ff;\n",
       "  --sklearn-color-fitted-level-1: #d4ebff;\n",
       "  --sklearn-color-fitted-level-2: #b3dbfd;\n",
       "  --sklearn-color-fitted-level-3: cornflowerblue;\n",
       "\n",
       "  /* Specific color for light theme */\n",
       "  --sklearn-color-text-on-default-background: var(--sg-text-color, var(--theme-code-foreground, var(--jp-content-font-color1, black)));\n",
       "  --sklearn-color-background: var(--sg-background-color, var(--theme-background, var(--jp-layout-color0, white)));\n",
       "  --sklearn-color-border-box: var(--sg-text-color, var(--theme-code-foreground, var(--jp-content-font-color1, black)));\n",
       "  --sklearn-color-icon: #696969;\n",
       "\n",
       "  @media (prefers-color-scheme: dark) {\n",
       "    /* Redefinition of color scheme for dark theme */\n",
       "    --sklearn-color-text-on-default-background: var(--sg-text-color, var(--theme-code-foreground, var(--jp-content-font-color1, white)));\n",
       "    --sklearn-color-background: var(--sg-background-color, var(--theme-background, var(--jp-layout-color0, #111)));\n",
       "    --sklearn-color-border-box: var(--sg-text-color, var(--theme-code-foreground, var(--jp-content-font-color1, white)));\n",
       "    --sklearn-color-icon: #878787;\n",
       "  }\n",
       "}\n",
       "\n",
       "#sk-container-id-3 {\n",
       "  color: var(--sklearn-color-text);\n",
       "}\n",
       "\n",
       "#sk-container-id-3 pre {\n",
       "  padding: 0;\n",
       "}\n",
       "\n",
       "#sk-container-id-3 input.sk-hidden--visually {\n",
       "  border: 0;\n",
       "  clip: rect(1px 1px 1px 1px);\n",
       "  clip: rect(1px, 1px, 1px, 1px);\n",
       "  height: 1px;\n",
       "  margin: -1px;\n",
       "  overflow: hidden;\n",
       "  padding: 0;\n",
       "  position: absolute;\n",
       "  width: 1px;\n",
       "}\n",
       "\n",
       "#sk-container-id-3 div.sk-dashed-wrapped {\n",
       "  border: 1px dashed var(--sklearn-color-line);\n",
       "  margin: 0 0.4em 0.5em 0.4em;\n",
       "  box-sizing: border-box;\n",
       "  padding-bottom: 0.4em;\n",
       "  background-color: var(--sklearn-color-background);\n",
       "}\n",
       "\n",
       "#sk-container-id-3 div.sk-container {\n",
       "  /* jupyter's `normalize.less` sets `[hidden] { display: none; }`\n",
       "     but bootstrap.min.css set `[hidden] { display: none !important; }`\n",
       "     so we also need the `!important` here to be able to override the\n",
       "     default hidden behavior on the sphinx rendered scikit-learn.org.\n",
       "     See: https://github.com/scikit-learn/scikit-learn/issues/21755 */\n",
       "  display: inline-block !important;\n",
       "  position: relative;\n",
       "}\n",
       "\n",
       "#sk-container-id-3 div.sk-text-repr-fallback {\n",
       "  display: none;\n",
       "}\n",
       "\n",
       "div.sk-parallel-item,\n",
       "div.sk-serial,\n",
       "div.sk-item {\n",
       "  /* draw centered vertical line to link estimators */\n",
       "  background-image: linear-gradient(var(--sklearn-color-text-on-default-background), var(--sklearn-color-text-on-default-background));\n",
       "  background-size: 2px 100%;\n",
       "  background-repeat: no-repeat;\n",
       "  background-position: center center;\n",
       "}\n",
       "\n",
       "/* Parallel-specific style estimator block */\n",
       "\n",
       "#sk-container-id-3 div.sk-parallel-item::after {\n",
       "  content: \"\";\n",
       "  width: 100%;\n",
       "  border-bottom: 2px solid var(--sklearn-color-text-on-default-background);\n",
       "  flex-grow: 1;\n",
       "}\n",
       "\n",
       "#sk-container-id-3 div.sk-parallel {\n",
       "  display: flex;\n",
       "  align-items: stretch;\n",
       "  justify-content: center;\n",
       "  background-color: var(--sklearn-color-background);\n",
       "  position: relative;\n",
       "}\n",
       "\n",
       "#sk-container-id-3 div.sk-parallel-item {\n",
       "  display: flex;\n",
       "  flex-direction: column;\n",
       "}\n",
       "\n",
       "#sk-container-id-3 div.sk-parallel-item:first-child::after {\n",
       "  align-self: flex-end;\n",
       "  width: 50%;\n",
       "}\n",
       "\n",
       "#sk-container-id-3 div.sk-parallel-item:last-child::after {\n",
       "  align-self: flex-start;\n",
       "  width: 50%;\n",
       "}\n",
       "\n",
       "#sk-container-id-3 div.sk-parallel-item:only-child::after {\n",
       "  width: 0;\n",
       "}\n",
       "\n",
       "/* Serial-specific style estimator block */\n",
       "\n",
       "#sk-container-id-3 div.sk-serial {\n",
       "  display: flex;\n",
       "  flex-direction: column;\n",
       "  align-items: center;\n",
       "  background-color: var(--sklearn-color-background);\n",
       "  padding-right: 1em;\n",
       "  padding-left: 1em;\n",
       "}\n",
       "\n",
       "\n",
       "/* Toggleable style: style used for estimator/Pipeline/ColumnTransformer box that is\n",
       "clickable and can be expanded/collapsed.\n",
       "- Pipeline and ColumnTransformer use this feature and define the default style\n",
       "- Estimators will overwrite some part of the style using the `sk-estimator` class\n",
       "*/\n",
       "\n",
       "/* Pipeline and ColumnTransformer style (default) */\n",
       "\n",
       "#sk-container-id-3 div.sk-toggleable {\n",
       "  /* Default theme specific background. It is overwritten whether we have a\n",
       "  specific estimator or a Pipeline/ColumnTransformer */\n",
       "  background-color: var(--sklearn-color-background);\n",
       "}\n",
       "\n",
       "/* Toggleable label */\n",
       "#sk-container-id-3 label.sk-toggleable__label {\n",
       "  cursor: pointer;\n",
       "  display: block;\n",
       "  width: 100%;\n",
       "  margin-bottom: 0;\n",
       "  padding: 0.5em;\n",
       "  box-sizing: border-box;\n",
       "  text-align: center;\n",
       "}\n",
       "\n",
       "#sk-container-id-3 label.sk-toggleable__label-arrow:before {\n",
       "  /* Arrow on the left of the label */\n",
       "  content: \"▸\";\n",
       "  float: left;\n",
       "  margin-right: 0.25em;\n",
       "  color: var(--sklearn-color-icon);\n",
       "}\n",
       "\n",
       "#sk-container-id-3 label.sk-toggleable__label-arrow:hover:before {\n",
       "  color: var(--sklearn-color-text);\n",
       "}\n",
       "\n",
       "/* Toggleable content - dropdown */\n",
       "\n",
       "#sk-container-id-3 div.sk-toggleable__content {\n",
       "  max-height: 0;\n",
       "  max-width: 0;\n",
       "  overflow: hidden;\n",
       "  text-align: left;\n",
       "  /* unfitted */\n",
       "  background-color: var(--sklearn-color-unfitted-level-0);\n",
       "}\n",
       "\n",
       "#sk-container-id-3 div.sk-toggleable__content.fitted {\n",
       "  /* fitted */\n",
       "  background-color: var(--sklearn-color-fitted-level-0);\n",
       "}\n",
       "\n",
       "#sk-container-id-3 div.sk-toggleable__content pre {\n",
       "  margin: 0.2em;\n",
       "  border-radius: 0.25em;\n",
       "  color: var(--sklearn-color-text);\n",
       "  /* unfitted */\n",
       "  background-color: var(--sklearn-color-unfitted-level-0);\n",
       "}\n",
       "\n",
       "#sk-container-id-3 div.sk-toggleable__content.fitted pre {\n",
       "  /* unfitted */\n",
       "  background-color: var(--sklearn-color-fitted-level-0);\n",
       "}\n",
       "\n",
       "#sk-container-id-3 input.sk-toggleable__control:checked~div.sk-toggleable__content {\n",
       "  /* Expand drop-down */\n",
       "  max-height: 200px;\n",
       "  max-width: 100%;\n",
       "  overflow: auto;\n",
       "}\n",
       "\n",
       "#sk-container-id-3 input.sk-toggleable__control:checked~label.sk-toggleable__label-arrow:before {\n",
       "  content: \"▾\";\n",
       "}\n",
       "\n",
       "/* Pipeline/ColumnTransformer-specific style */\n",
       "\n",
       "#sk-container-id-3 div.sk-label input.sk-toggleable__control:checked~label.sk-toggleable__label {\n",
       "  color: var(--sklearn-color-text);\n",
       "  background-color: var(--sklearn-color-unfitted-level-2);\n",
       "}\n",
       "\n",
       "#sk-container-id-3 div.sk-label.fitted input.sk-toggleable__control:checked~label.sk-toggleable__label {\n",
       "  background-color: var(--sklearn-color-fitted-level-2);\n",
       "}\n",
       "\n",
       "/* Estimator-specific style */\n",
       "\n",
       "/* Colorize estimator box */\n",
       "#sk-container-id-3 div.sk-estimator input.sk-toggleable__control:checked~label.sk-toggleable__label {\n",
       "  /* unfitted */\n",
       "  background-color: var(--sklearn-color-unfitted-level-2);\n",
       "}\n",
       "\n",
       "#sk-container-id-3 div.sk-estimator.fitted input.sk-toggleable__control:checked~label.sk-toggleable__label {\n",
       "  /* fitted */\n",
       "  background-color: var(--sklearn-color-fitted-level-2);\n",
       "}\n",
       "\n",
       "#sk-container-id-3 div.sk-label label.sk-toggleable__label,\n",
       "#sk-container-id-3 div.sk-label label {\n",
       "  /* The background is the default theme color */\n",
       "  color: var(--sklearn-color-text-on-default-background);\n",
       "}\n",
       "\n",
       "/* On hover, darken the color of the background */\n",
       "#sk-container-id-3 div.sk-label:hover label.sk-toggleable__label {\n",
       "  color: var(--sklearn-color-text);\n",
       "  background-color: var(--sklearn-color-unfitted-level-2);\n",
       "}\n",
       "\n",
       "/* Label box, darken color on hover, fitted */\n",
       "#sk-container-id-3 div.sk-label.fitted:hover label.sk-toggleable__label.fitted {\n",
       "  color: var(--sklearn-color-text);\n",
       "  background-color: var(--sklearn-color-fitted-level-2);\n",
       "}\n",
       "\n",
       "/* Estimator label */\n",
       "\n",
       "#sk-container-id-3 div.sk-label label {\n",
       "  font-family: monospace;\n",
       "  font-weight: bold;\n",
       "  display: inline-block;\n",
       "  line-height: 1.2em;\n",
       "}\n",
       "\n",
       "#sk-container-id-3 div.sk-label-container {\n",
       "  text-align: center;\n",
       "}\n",
       "\n",
       "/* Estimator-specific */\n",
       "#sk-container-id-3 div.sk-estimator {\n",
       "  font-family: monospace;\n",
       "  border: 1px dotted var(--sklearn-color-border-box);\n",
       "  border-radius: 0.25em;\n",
       "  box-sizing: border-box;\n",
       "  margin-bottom: 0.5em;\n",
       "  /* unfitted */\n",
       "  background-color: var(--sklearn-color-unfitted-level-0);\n",
       "}\n",
       "\n",
       "#sk-container-id-3 div.sk-estimator.fitted {\n",
       "  /* fitted */\n",
       "  background-color: var(--sklearn-color-fitted-level-0);\n",
       "}\n",
       "\n",
       "/* on hover */\n",
       "#sk-container-id-3 div.sk-estimator:hover {\n",
       "  /* unfitted */\n",
       "  background-color: var(--sklearn-color-unfitted-level-2);\n",
       "}\n",
       "\n",
       "#sk-container-id-3 div.sk-estimator.fitted:hover {\n",
       "  /* fitted */\n",
       "  background-color: var(--sklearn-color-fitted-level-2);\n",
       "}\n",
       "\n",
       "/* Specification for estimator info (e.g. \"i\" and \"?\") */\n",
       "\n",
       "/* Common style for \"i\" and \"?\" */\n",
       "\n",
       ".sk-estimator-doc-link,\n",
       "a:link.sk-estimator-doc-link,\n",
       "a:visited.sk-estimator-doc-link {\n",
       "  float: right;\n",
       "  font-size: smaller;\n",
       "  line-height: 1em;\n",
       "  font-family: monospace;\n",
       "  background-color: var(--sklearn-color-background);\n",
       "  border-radius: 1em;\n",
       "  height: 1em;\n",
       "  width: 1em;\n",
       "  text-decoration: none !important;\n",
       "  margin-left: 1ex;\n",
       "  /* unfitted */\n",
       "  border: var(--sklearn-color-unfitted-level-1) 1pt solid;\n",
       "  color: var(--sklearn-color-unfitted-level-1);\n",
       "}\n",
       "\n",
       ".sk-estimator-doc-link.fitted,\n",
       "a:link.sk-estimator-doc-link.fitted,\n",
       "a:visited.sk-estimator-doc-link.fitted {\n",
       "  /* fitted */\n",
       "  border: var(--sklearn-color-fitted-level-1) 1pt solid;\n",
       "  color: var(--sklearn-color-fitted-level-1);\n",
       "}\n",
       "\n",
       "/* On hover */\n",
       "div.sk-estimator:hover .sk-estimator-doc-link:hover,\n",
       ".sk-estimator-doc-link:hover,\n",
       "div.sk-label-container:hover .sk-estimator-doc-link:hover,\n",
       ".sk-estimator-doc-link:hover {\n",
       "  /* unfitted */\n",
       "  background-color: var(--sklearn-color-unfitted-level-3);\n",
       "  color: var(--sklearn-color-background);\n",
       "  text-decoration: none;\n",
       "}\n",
       "\n",
       "div.sk-estimator.fitted:hover .sk-estimator-doc-link.fitted:hover,\n",
       ".sk-estimator-doc-link.fitted:hover,\n",
       "div.sk-label-container:hover .sk-estimator-doc-link.fitted:hover,\n",
       ".sk-estimator-doc-link.fitted:hover {\n",
       "  /* fitted */\n",
       "  background-color: var(--sklearn-color-fitted-level-3);\n",
       "  color: var(--sklearn-color-background);\n",
       "  text-decoration: none;\n",
       "}\n",
       "\n",
       "/* Span, style for the box shown on hovering the info icon */\n",
       ".sk-estimator-doc-link span {\n",
       "  display: none;\n",
       "  z-index: 9999;\n",
       "  position: relative;\n",
       "  font-weight: normal;\n",
       "  right: .2ex;\n",
       "  padding: .5ex;\n",
       "  margin: .5ex;\n",
       "  width: min-content;\n",
       "  min-width: 20ex;\n",
       "  max-width: 50ex;\n",
       "  color: var(--sklearn-color-text);\n",
       "  box-shadow: 2pt 2pt 4pt #999;\n",
       "  /* unfitted */\n",
       "  background: var(--sklearn-color-unfitted-level-0);\n",
       "  border: .5pt solid var(--sklearn-color-unfitted-level-3);\n",
       "}\n",
       "\n",
       ".sk-estimator-doc-link.fitted span {\n",
       "  /* fitted */\n",
       "  background: var(--sklearn-color-fitted-level-0);\n",
       "  border: var(--sklearn-color-fitted-level-3);\n",
       "}\n",
       "\n",
       ".sk-estimator-doc-link:hover span {\n",
       "  display: block;\n",
       "}\n",
       "\n",
       "/* \"?\"-specific style due to the `<a>` HTML tag */\n",
       "\n",
       "#sk-container-id-3 a.estimator_doc_link {\n",
       "  float: right;\n",
       "  font-size: 1rem;\n",
       "  line-height: 1em;\n",
       "  font-family: monospace;\n",
       "  background-color: var(--sklearn-color-background);\n",
       "  border-radius: 1rem;\n",
       "  height: 1rem;\n",
       "  width: 1rem;\n",
       "  text-decoration: none;\n",
       "  /* unfitted */\n",
       "  color: var(--sklearn-color-unfitted-level-1);\n",
       "  border: var(--sklearn-color-unfitted-level-1) 1pt solid;\n",
       "}\n",
       "\n",
       "#sk-container-id-3 a.estimator_doc_link.fitted {\n",
       "  /* fitted */\n",
       "  border: var(--sklearn-color-fitted-level-1) 1pt solid;\n",
       "  color: var(--sklearn-color-fitted-level-1);\n",
       "}\n",
       "\n",
       "/* On hover */\n",
       "#sk-container-id-3 a.estimator_doc_link:hover {\n",
       "  /* unfitted */\n",
       "  background-color: var(--sklearn-color-unfitted-level-3);\n",
       "  color: var(--sklearn-color-background);\n",
       "  text-decoration: none;\n",
       "}\n",
       "\n",
       "#sk-container-id-3 a.estimator_doc_link.fitted:hover {\n",
       "  /* fitted */\n",
       "  background-color: var(--sklearn-color-fitted-level-3);\n",
       "}\n",
       "</style><div id=\"sk-container-id-3\" class=\"sk-top-container\"><div class=\"sk-text-repr-fallback\"><pre>RandomForestClassifier(n_estimators=200, random_state=42)</pre><b>In a Jupyter environment, please rerun this cell to show the HTML representation or trust the notebook. <br />On GitHub, the HTML representation is unable to render, please try loading this page with nbviewer.org.</b></div><div class=\"sk-container\" hidden><div class=\"sk-item\"><div class=\"sk-estimator fitted sk-toggleable\"><input class=\"sk-toggleable__control sk-hidden--visually\" id=\"sk-estimator-id-3\" type=\"checkbox\" checked><label for=\"sk-estimator-id-3\" class=\"sk-toggleable__label fitted sk-toggleable__label-arrow fitted\">&nbsp;&nbsp;RandomForestClassifier<a class=\"sk-estimator-doc-link fitted\" rel=\"noreferrer\" target=\"_blank\" href=\"https://scikit-learn.org/1.5/modules/generated/sklearn.ensemble.RandomForestClassifier.html\">?<span>Documentation for RandomForestClassifier</span></a><span class=\"sk-estimator-doc-link fitted\">i<span>Fitted</span></span></label><div class=\"sk-toggleable__content fitted\"><pre>RandomForestClassifier(n_estimators=200, random_state=42)</pre></div> </div></div></div></div>"
      ],
      "text/plain": [
       "RandomForestClassifier(n_estimators=200, random_state=42)"
      ]
     },
     "execution_count": 321,
     "metadata": {},
     "output_type": "execute_result"
    }
   ],
   "source": [
    "# Use the Random Forest model with the best parameters\n",
    "best_rf = RandomForestClassifier(n_estimators=200, max_depth=None, random_state=42)\n",
    "best_rf.fit(X_train_val, y_train_val)\n"
   ]
  },
  {
   "cell_type": "code",
   "execution_count": 322,
   "id": "fbc4fe5b",
   "metadata": {},
   "outputs": [
    {
     "name": "stdout",
     "output_type": "stream",
     "text": [
      "Best Model (Random Forest) Classification Report:\n",
      "              precision    recall  f1-score   support\n",
      "\n",
      "           0       0.92      0.98      0.95       275\n",
      "           1       0.67      0.34      0.45        35\n",
      "\n",
      "    accuracy                           0.91       310\n",
      "   macro avg       0.79      0.66      0.70       310\n",
      "weighted avg       0.89      0.91      0.89       310\n",
      "\n",
      "Best Model ROC-AUC Score: 0.8004\n"
     ]
    }
   ],
   "source": [
    "y_test_pred = best_rf.predict(X_test)\n",
    "y_test_proba = best_rf.predict_proba(X_test)[:, 1]\n",
    "\n",
    "# Print metrics for the best model\n",
    "from sklearn.metrics import classification_report, roc_auc_score\n",
    "\n",
    "print(\"Best Model (Random Forest) Classification Report:\")\n",
    "print(classification_report(y_test, y_test_pred))\n",
    "\n",
    "# ROC-AUC Score\n",
    "print(f\"Best Model ROC-AUC Score: {roc_auc_score(y_test, y_test_proba):.4f}\")"
   ]
  },
  {
   "cell_type": "markdown",
   "id": "2cee91ce",
   "metadata": {},
   "source": [
    "# Compare best model with dummy classifier"
   ]
  },
  {
   "cell_type": "code",
   "execution_count": 323,
   "id": "cfe871ca",
   "metadata": {},
   "outputs": [
    {
     "name": "stdout",
     "output_type": "stream",
     "text": [
      "Dummy Model Classification Report:\n",
      "              precision    recall  f1-score   support\n",
      "\n",
      "           0       0.89      1.00      0.94       275\n",
      "           1       0.00      0.00      0.00        35\n",
      "\n",
      "    accuracy                           0.89       310\n",
      "   macro avg       0.44      0.50      0.47       310\n",
      "weighted avg       0.79      0.89      0.83       310\n",
      "\n",
      "Dummy Model ROC-AUC Score: 0.5000\n"
     ]
    },
    {
     "name": "stderr",
     "output_type": "stream",
     "text": [
      "C:\\Users\\Anushka Mondal\\AppData\\Roaming\\Python\\Python311\\site-packages\\sklearn\\metrics\\_classification.py:1531: UndefinedMetricWarning: Precision is ill-defined and being set to 0.0 in labels with no predicted samples. Use `zero_division` parameter to control this behavior.\n",
      "  _warn_prf(average, modifier, f\"{metric.capitalize()} is\", len(result))\n",
      "C:\\Users\\Anushka Mondal\\AppData\\Roaming\\Python\\Python311\\site-packages\\sklearn\\metrics\\_classification.py:1531: UndefinedMetricWarning: Precision is ill-defined and being set to 0.0 in labels with no predicted samples. Use `zero_division` parameter to control this behavior.\n",
      "  _warn_prf(average, modifier, f\"{metric.capitalize()} is\", len(result))\n",
      "C:\\Users\\Anushka Mondal\\AppData\\Roaming\\Python\\Python311\\site-packages\\sklearn\\metrics\\_classification.py:1531: UndefinedMetricWarning: Precision is ill-defined and being set to 0.0 in labels with no predicted samples. Use `zero_division` parameter to control this behavior.\n",
      "  _warn_prf(average, modifier, f\"{metric.capitalize()} is\", len(result))\n"
     ]
    }
   ],
   "source": [
    "from sklearn.dummy import DummyClassifier\n",
    "\n",
    "# Dummy model (most frequent strategy)\n",
    "dummy_clf = DummyClassifier(strategy=\"most_frequent\", random_state=42)\n",
    "dummy_clf.fit(X_train, y_train)\n",
    "\n",
    "# Predict on test data\n",
    "y_dummy_pred = dummy_clf.predict(X_test)\n",
    "y_dummy_proba = dummy_clf.predict_proba(X_test)[:, 1]\n",
    "\n",
    "# Print metrics for the dummy model\n",
    "print(\"Dummy Model Classification Report:\")\n",
    "print(classification_report(y_test, y_dummy_pred))\n",
    "\n",
    "# ROC-AUC Score\n",
    "print(f\"Dummy Model ROC-AUC Score: {roc_auc_score(y_test, y_dummy_proba):.4f}\")"
   ]
  },
  {
   "cell_type": "code",
   "execution_count": 324,
   "id": "6fbf8c39",
   "metadata": {},
   "outputs": [
    {
     "name": "stdout",
     "output_type": "stream",
     "text": [
      "                            Accuracy  Precision    Recall  F1-Score   ROC-AUC\n",
      "Best Model (Random Forest)  0.906452   0.921233  0.978182  0.948854  0.800364\n",
      "Dummy Model                 0.887097   0.887097  1.000000  0.940171  0.500000\n"
     ]
    }
   ],
   "source": [
    "# Comparison table for dummy model and best model (Random Forest)\n",
    "comparison_metrics = {\n",
    "    'Accuracy': [accuracy_score(y_test, y_test_pred), accuracy_score(y_test, y_dummy_pred)],\n",
    "    'Precision': [precision_score(y_test, y_test_pred, pos_label=0), precision_score(y_test, y_dummy_pred, pos_label=0)],\n",
    "    'Recall': [recall_score(y_test, y_test_pred, pos_label=0), recall_score(y_test, y_dummy_pred, pos_label=0)],\n",
    "    'F1-Score': [f1_score(y_test, y_test_pred, pos_label=0), f1_score(y_test, y_dummy_pred, pos_label=0)],\n",
    "    'ROC-AUC': [roc_auc_score(y_test, y_test_proba), roc_auc_score(y_test, y_dummy_proba)]\n",
    "}\n",
    "\n",
    "# Create the comparison table\n",
    "comparison_df = pd.DataFrame(comparison_metrics, index=['Best Model (Random Forest)', 'Dummy Model'])\n",
    "print(comparison_df)"
   ]
  },
  {
   "cell_type": "markdown",
   "id": "844fa58f",
   "metadata": {},
   "source": [
    "Key Takeaways:\n",
    "\n",
    "Random Forest Model:\n",
    "\n",
    "Outperforms the Dummy model in all metrics except recall for the negative class (1).\n",
    "\n",
    "This suggests the Random Forest model is a better classifier overall, with good precision, recall, and F1-score for the positive class (0).\n",
    "\n",
    "The ROC-AUC score shows that the Random Forest is much better at distinguishing between the two classes.\n",
    "\n",
    "Dummy Model:\n",
    "\n",
    "While the Dummy model has perfect recall for the majority class (0), it completely fails at identifying the minority class (1).\n",
    "\n",
    "It is biased toward predicting the majority class, making it unsuitable for imbalanced datasets like yours."
   ]
  },
  {
   "cell_type": "markdown",
   "id": "6c6e9903",
   "metadata": {},
   "source": [
    "# Error Analysis"
   ]
  },
  {
   "cell_type": "code",
   "execution_count": 325,
   "id": "c77b0ea6",
   "metadata": {},
   "outputs": [
    {
     "data": {
      "image/png": "[encoded data removed]",
      "text/plain": [
       "<Figure size 640x480 with 1 Axes>"
      ]
     },
     "metadata": {},
     "output_type": "display_data"
    }
   ],
   "source": [
    "from sklearn.metrics import confusion_matrix\n",
    "import seaborn as sns\n",
    "import matplotlib.pyplot as plt\n",
    "\n",
    "# Confusion Matrix for Best Model\n",
    "cm = confusion_matrix(y_test, y_test_pred)\n",
    "conf_matrix = pd.DataFrame(cm, columns=['Predicted Class 0', 'Predicted Class 1'],\n",
    "                           index=['True Class 0', 'True Class 1'])\n",
    "\n",
    "# Visualize confusion matrix\n",
    "sns.heatmap(conf_matrix, annot=True, fmt='d', cmap='Blues', cbar=False)\n",
    "plt.title('Confusion Matrix for Best Model')\n",
    "plt.show()\n"
   ]
  },
  {
   "cell_type": "markdown",
   "id": "34917398",
   "metadata": {},
   "source": [
    "# Measuring Bias and Variance"
   ]
  },
  {
   "cell_type": "code",
   "execution_count": 326,
   "id": "5c879c73",
   "metadata": {},
   "outputs": [
    {
     "data": {
      "image/png": "[encoded data removed]",
      "text/plain": [
       "<Figure size 800x600 with 1 Axes>"
      ]
     },
     "metadata": {},
     "output_type": "display_data"
    }
   ],
   "source": [
    "from sklearn.model_selection import learning_curve\n",
    "\n",
    "# Calculate learning curves\n",
    "train_sizes, train_scores, test_scores = learning_curve(best_rf, X_train_val, y_train_val, cv=5, scoring='f1', n_jobs=-1)\n",
    "\n",
    "# Calculate mean and standard deviation for plotting\n",
    "train_mean = train_scores.mean(axis=1)\n",
    "test_mean = test_scores.mean(axis=1)\n",
    "train_std = train_scores.std(axis=1)\n",
    "test_std = test_scores.std(axis=1)\n",
    "\n",
    "# Plot learning curves\n",
    "plt.figure(figsize=(8, 6))\n",
    "plt.plot(train_sizes, train_mean, label=\"Training score\", color=\"blue\", lw=2)\n",
    "plt.plot(train_sizes, test_mean, label=\"Cross-validation score\", color=\"green\", lw=2)\n",
    "plt.fill_between(train_sizes, train_mean - train_std, train_mean + train_std, color=\"blue\", alpha=0.2)\n",
    "plt.fill_between(train_sizes, test_mean - test_std, test_mean + test_std, color=\"green\", alpha=0.2)\n",
    "\n",
    "plt.title(\"Learning Curves for Best Model\")\n",
    "plt.xlabel(\"Training Set Size\")\n",
    "plt.ylabel(\"F1-Score\")\n",
    "plt.legend()\n",
    "plt.grid()\n",
    "plt.show()\n"
   ]
  },
  {
   "cell_type": "markdown",
   "id": "44a4e709",
   "metadata": {},
   "source": [
    "Training Score (Blue Curve):\n",
    "\n",
    "The training score starts very high (near 1.0) and gradually decreases as the training set size increases.\n",
    "This indicates that the model fits the training data very well when the training size is small (likely overfitting).\n",
    "As the training set grows, the model's training performance stabilizes around 0.83.\n",
    "\n",
    "Cross-Validation Score (Green Curve):\n",
    "\n",
    "The cross-validation score starts very low (around 0.1) and increases slowly with the training set size.\n",
    "However, it remains significantly lower than the training score, even at the largest training size.\n",
    "This indicates high bias and possibly some underfitting because the model fails to generalize effectively.\n",
    "\n",
    "Bias and Variance Implications:\n",
    "\n",
    "High Bias: The cross-validation score is low and doesn't improve much, suggesting that the model is too simplistic or not capturing the underlying patterns in the data effectively.\n",
    "Variance: The gap between the training score and the cross-validation score indicates that the model is overfitting on small training sets. This variance gap reduces slightly as the training size increases but remains prominent."
   ]
  },
  {
   "cell_type": "markdown",
   "id": "4d487e8c",
   "metadata": {},
   "source": [
    "The model has high bias (low cross-validation score) and moderate variance (gap between the curves)."
   ]
  },
  {
   "cell_type": "code",
   "execution_count": null,
   "id": "fceeb16b",
   "metadata": {},
   "outputs": [],
   "source": []
  },
  {
   "cell_type": "code",
   "execution_count": null,
   "id": "cec54e8c",
   "metadata": {},
   "outputs": [],
   "source": []
  },
  {
   "cell_type": "code",
   "execution_count": null,
   "id": "05b9c3df",
   "metadata": {},
   "outputs": [],
   "source": []
  },
  {
   "cell_type": "code",
   "execution_count": null,
   "id": "3002ec3d",
   "metadata": {},
   "outputs": [],
   "source": []
  },
  {
   "cell_type": "code",
   "execution_count": null,
   "id": "fafc7ff8",
   "metadata": {},
   "outputs": [],
   "source": []
  },
  {
   "cell_type": "code",
   "execution_count": null,
   "id": "3e7e23a7",
   "metadata": {},
   "outputs": [],
   "source": []
  },
  {
   "cell_type": "code",
   "execution_count": null,
   "id": "9d4abafe",
   "metadata": {},
   "outputs": [],
   "source": []
  },
  {
   "cell_type": "code",
   "execution_count": null,
   "id": "446a2c65",
   "metadata": {},
   "outputs": [],
   "source": []
  }
 ],
 "metadata": {
  "kernelspec": {
   "display_name": "Python 3 (ipykernel)",
   "language": "python",
   "name": "python3"
  },
  "language_info": {
   "codemirror_mode": {
    "name": "ipython",
    "version": 3
   },
   "file_extension": ".py",
   "mimetype": "text/x-python",
   "name": "python",
   "nbconvert_exporter": "python",
   "pygments_lexer": "ipython3",
   "version": "3.11.4"
  }
 },
 "nbformat": 4,
 "nbformat_minor": 5
}
